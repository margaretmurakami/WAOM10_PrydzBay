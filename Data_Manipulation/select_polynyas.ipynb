{
 "cells": [
  {
   "cell_type": "markdown",
   "id": "dd504cbc",
   "metadata": {},
   "source": [
    "### Import the packages"
   ]
  },
  {
   "cell_type": "code",
   "execution_count": 1,
   "id": "b77f680a",
   "metadata": {},
   "outputs": [],
   "source": [
    "import numpy as np\n",
    "import xarray as xr"
   ]
  },
  {
   "cell_type": "markdown",
   "id": "4d1be5c6",
   "metadata": {},
   "source": [
    "### Test our text files that we wrote later in this same file"
   ]
  },
  {
   "cell_type": "code",
   "execution_count": 2,
   "id": "71c3b31b",
   "metadata": {},
   "outputs": [],
   "source": [
    "# original polynya locations used in submission 1\n",
    "pol_locs = np.fromfile(\"/scratch/project_2000789/muramarg/floats_WAOM/text_files/pollocs_dsw.txt\",sep=\",\")\n",
    "pol_locs = pol_locs.astype(int)"
   ]
  },
  {
   "cell_type": "code",
   "execution_count": 3,
   "id": "ae8be2e8",
   "metadata": {},
   "outputs": [],
   "source": [
    "# select from polynyaidx_3_26.txt that forms DSW - this is from our original analysis, should ideally match\n",
    "pol_locs1 = np.fromfile(\"/scratch/project_2000789/muramarg/floats_WAOM/text_files/polynyaidx_3_26.txt\",sep=\",\")\n",
    "pol_locs1 = pol_locs1.astype(int)"
   ]
  },
  {
   "cell_type": "code",
   "execution_count": 4,
   "id": "1326f457",
   "metadata": {},
   "outputs": [],
   "source": [
    "np.intersect1d(pol_locs,pol_locs1).tofile(\"/scratch/project_2000789/muramarg/floats_WAOM/text_files/trythis_polidx.txt\",sep=\",\")"
   ]
  },
  {
   "cell_type": "code",
   "execution_count": 5,
   "id": "fd11d309",
   "metadata": {},
   "outputs": [
    {
     "data": {
      "text/plain": [
       "(7599,)"
      ]
     },
     "execution_count": 5,
     "metadata": {},
     "output_type": "execute_result"
    }
   ],
   "source": [
    "pol_locs1.shape"
   ]
  },
  {
   "cell_type": "code",
   "execution_count": 6,
   "id": "09d24529",
   "metadata": {},
   "outputs": [],
   "source": [
    "# select wmt from 3_26 files\n",
    "wmt = np.fromfile(\"/scratch/project_2000789/muramarg/floats_WAOM/text_files/wmt_3_26.txt\",sep=\",\")\n",
    "wmt = wmt.reshape((35040,-1))"
   ]
  },
  {
   "cell_type": "code",
   "execution_count": 7,
   "id": "37051d42",
   "metadata": {},
   "outputs": [
    {
     "name": "stdout",
     "output_type": "stream",
     "text": [
      "(5991,)\n"
     ]
    }
   ],
   "source": [
    "columns_with_zero = np.any(wmt == 3, axis=0)\n",
    "indices_with_zero = np.where(columns_with_zero)[0]\n",
    "\n",
    "print(pol_locs1[indices_with_zero].shape)"
   ]
  },
  {
   "cell_type": "code",
   "execution_count": 8,
   "id": "ccac7767",
   "metadata": {},
   "outputs": [],
   "source": [
    "# select from polynyaidx_3_26.txt that forms DSW - this is from our original analysis, should ideally match\n",
    "pol_locs2 = np.fromfile(\"/scratch/project_2000789/muramarg/floats_WAOM/text_files/polynyaidx_3_27_limited.txt\",sep=\",\")\n",
    "pol_locs2 = pol_locs2.astype(int)"
   ]
  },
  {
   "cell_type": "code",
   "execution_count": 9,
   "id": "4fd1139d",
   "metadata": {},
   "outputs": [
    {
     "data": {
      "text/plain": [
       "(1745,)"
      ]
     },
     "execution_count": 9,
     "metadata": {},
     "output_type": "execute_result"
    }
   ],
   "source": [
    "# np.intersect1d(pol_locs2,pol_locs1[indices_with_zero]).shape\n",
    "np.intersect1d(pol_locs2,pol_locs).shape"
   ]
  },
  {
   "cell_type": "code",
   "execution_count": 58,
   "id": "c90b3538",
   "metadata": {},
   "outputs": [],
   "source": [
    "# set these to a file to show an example for clustering\n",
    "pol_locs1[indices_with_zero].tofile(\"/scratch/project_2000789/muramarg/floats_WAOM/text_files/polynya_-120_1.3e-5.txt\",sep=\",\")"
   ]
  },
  {
   "cell_type": "code",
   "execution_count": 59,
   "id": "7a7a6780",
   "metadata": {},
   "outputs": [],
   "source": [
    "# set these to a file to show an example for clustering\n",
    "np.intersect1d(pol_locs2,pol_locs1[indices_with_zero]).tofile(\"/scratch/project_2000789/muramarg/floats_WAOM/text_files/polynya_-125_1.4e-5.txt\",sep=\",\")"
   ]
  },
  {
   "cell_type": "markdown",
   "id": "1a3d2d3e",
   "metadata": {},
   "source": [
    "### Restrict where we set polynyas"
   ]
  },
  {
   "cell_type": "code",
   "execution_count": 4,
   "id": "d8cdeded",
   "metadata": {},
   "outputs": [
    {
     "data": {
      "text/plain": [
       "(5328,)"
      ]
     },
     "execution_count": 4,
     "metadata": {},
     "output_type": "execute_result"
    }
   ],
   "source": [
    "# this is based on the files polynya_seasons and pollocs_dsw\n",
    "pol_locs = np.fromfile(\"/scratch/project_2000789/muramarg/floats_WAOM/text_files/polynya_locs.txt\",sep=\",\")\n",
    "pol_locs.shape"
   ]
  },
  {
   "cell_type": "code",
   "execution_count": null,
   "id": "235f7dc4",
   "metadata": {},
   "outputs": [],
   "source": []
  },
  {
   "cell_type": "code",
   "execution_count": 24,
   "id": "d9aa1d5e",
   "metadata": {},
   "outputs": [
    {
     "data": {
      "text/plain": [
       "(391, 2)"
      ]
     },
     "execution_count": 24,
     "metadata": {},
     "output_type": "execute_result"
    }
   ],
   "source": [
    "points = np.fromfile(\"/scratch/project_2000789/muramarg/floats_WAOM/text_files/points.txt\",sep=\",\")\n",
    "points = points.reshape(391,2)\n",
    "points.shape"
   ]
  },
  {
   "cell_type": "code",
   "execution_count": 25,
   "id": "c052a8c6",
   "metadata": {},
   "outputs": [],
   "source": [
    "xgrid = np.fromfile(\"/scratch/project_2000789/muramarg/floats_WAOM/text_files/xgrid_dsw.txt\",sep=\",\")\n",
    "ygrid = np.fromfile(\"/scratch/project_2000789/muramarg/floats_WAOM/text_files/ygrid_dsw.txt\",sep=\",\")\n",
    "\n",
    "xgrid = xgrid.reshape((35040,-1))\n",
    "ygrid = ygrid.reshape((35040,-1))"
   ]
  },
  {
   "cell_type": "code",
   "execution_count": 26,
   "id": "efefbc49",
   "metadata": {},
   "outputs": [],
   "source": [
    "# collapse the points based on this\n",
    "firstx = xgrid[0]\n",
    "firsty = ygrid[0]"
   ]
  },
  {
   "cell_type": "code",
   "execution_count": 27,
   "id": "4f1cd456",
   "metadata": {},
   "outputs": [],
   "source": [
    "points = np.stack((firstx,firsty)).T"
   ]
  },
  {
   "cell_type": "code",
   "execution_count": 28,
   "id": "9015eaf6",
   "metadata": {},
   "outputs": [
    {
     "name": "stdout",
     "output_type": "stream",
     "text": [
      "(328, 2)\n"
     ]
    }
   ],
   "source": [
    "unique_set = set(map(tuple, points))\n",
    "\n",
    "# Convert the set back to a NumPy array\n",
    "unique_array = np.array(list(unique_set))\n",
    "\n",
    "# Resize the array if needed\n",
    "# For example, if you want to resize it to shape (n, 2), where n is the number of unique points\n",
    "# You might need to adjust n based on the actual number of unique points\n",
    "n = len(unique_array)\n",
    "unique_array = unique_array[:n]\n",
    "\n",
    "print(unique_array.shape)\n",
    "# unique_array is now the list of release points we use in the simulation"
   ]
  },
  {
   "cell_type": "markdown",
   "id": "be6edd47",
   "metadata": {},
   "source": [
    "### Let's find the time steps where there is a polynya"
   ]
  },
  {
   "cell_type": "code",
   "execution_count": 29,
   "id": "27883a87",
   "metadata": {},
   "outputs": [],
   "source": [
    "def sh_points(ds,thres,month,xr,yr):\n",
    "    \"\"\"\n",
    "    inputs: the dataset\n",
    "    thres: the threshold value for flux\n",
    "    month: the index of desired month\n",
    "    xr: range of x values to include\n",
    "    yr: range of y values to include\n",
    "    \n",
    "    outputs: the x and y grid locations for the threshold values\n",
    "    \"\"\"\n",
    "    # sh_arr = (ds.shflux.values)[month]\n",
    "    sh_arr = np.mean(ds.shflux.values,axis=0)\n",
    "    locs = np.where(sh_arr < thres)         # set values above the heat loss threshold to 0\n",
    "\n",
    "    # filter by area on the map\n",
    "    newx = np.array([])\n",
    "    newy = np.array([])\n",
    "    for i,j in zip(locs[1],locs[0]):\n",
    "        if (i>xr[0] and i<xr[1]) and (j>yr[0] and j<yr[1]):\n",
    "            newx = np.append(i,newx)\n",
    "            newy = np.append(j,newy)\n",
    "            \n",
    "    return newx,newy\n",
    "\n",
    "def ss_points(ds,thres,month,xr,yr):\n",
    "    \"\"\"\n",
    "    inputs:\n",
    "        ds: the dataset\n",
    "        thres: the threshold value for flux\n",
    "        month: the index of desired month\n",
    "        xr: range of x values to include\n",
    "        yr: range of y values to include\n",
    "    \n",
    "    outputs: \n",
    "        newx, newy: the x and y grid locations for the threshold values\n",
    "    \"\"\"\n",
    "    \n",
    "    #ss_arr = (ds.ssflux.values)[month]\n",
    "    ss_arr = np.mean(ds.ssflux.values,axis=0)\n",
    "    locs = np.where(ss_arr > thres)         # set values above the heat loss threshold to 0\n",
    "\n",
    "    # filter by area on the map\n",
    "    newx = np.array([])\n",
    "    newy = np.array([])\n",
    "    for i,j in zip(locs[1],locs[0]):\n",
    "        if (i>xr[0] and i<xr[1]) and (j>yr[0] and j<yr[1]):\n",
    "            newx = np.append(i,newx)\n",
    "            newy = np.append(j,newy)\n",
    "            \n",
    "    return newx,newy\n",
    "\n",
    "def mergepoints(x1,y1,x2,y2,h):\n",
    "    \"\"\"\n",
    "    inputs:\n",
    "        x1,y1: the x and y coordinates of two arrays\n",
    "        x2,y2: the x and y coordinates of two arrays\n",
    "    outputs:\n",
    "        x,y: the combined arrays of two datapoints\n",
    "    \"\"\"\n",
    "    # create the new set of points\n",
    "    pts1 = np.empty((0,2))\n",
    "    pts2 = np.empty((0,2))\n",
    "    \n",
    "    # read through each array, create points as tuples\n",
    "    for i,j in zip(x1,y1):\n",
    "        l = np.array([i,j])\n",
    "        pts1 = np.append(np.array([l]),pts1,axis=0)\n",
    "    for i,j in zip(x2,y2):\n",
    "        l = np.array([i,j])\n",
    "        pts2 = np.append(np.array([l]),pts2,axis=0)\n",
    "        \n",
    "    # union of the two sets\n",
    "    set1 = set([tuple(x) for x in pts1])\n",
    "    set2 = set([tuple(x) for x in pts2])\n",
    "    pts = np.array([x for x in set1 and set2])\n",
    "#     pts2 = np.array([x for x in set1 and set2])\n",
    "#     for pt in pts2:\n",
    "#         #print(pt)\n",
    "#         pts = np.append(np.array([pt]),pts,axis=0)\n",
    "    \n",
    "    # separate into x and y arrays again\n",
    "    x = np.array([])\n",
    "    y = np.array([])\n",
    "    for pt in pts:\n",
    "        #print(pt[0],pt[1])\n",
    "        thish = h[int(pt[1]),int(pt[0])]\n",
    "        #print(thish)\n",
    "        if thish<1000:\n",
    "            x = np.append(pt[0],x)\n",
    "            y = np.append(pt[1],y)\n",
    "    \n",
    "    return x,y\n",
    "    \n",
    "# xh,yh = sh_points(ds,-120,6,[450,600],[300,450])\n",
    "# xs,ys = ss_points(ds,1.3e-5,6,[450,600],[300,450])\n",
    "# plt.plot(xh,yh,'.',color=\"r\",alpha=0.5,label='shflux points')\n",
    "# plt.plot(xs,ys,'.',color=\"b\",alpha=0.5,label='ssflux points')\n",
    "# plt.title(\"sh and ss of points\")\n",
    "# plt.legend()"
   ]
  },
  {
   "cell_type": "code",
   "execution_count": 10,
   "id": "7d9f3b44",
   "metadata": {},
   "outputs": [],
   "source": [
    "ds1  = xr.open_dataset(\"/scratch/project_2000789/muramarg/waom_total/output_WAOM_check/ocean_avg_0001.nc\")\n",
    "ds2  = xr.open_dataset(\"/scratch/project_2000789/muramarg/waom_total/output_WAOM_check/ocean_avg_0002.nc\")\n",
    "ds3  = xr.open_dataset(\"/scratch/project_2000789/muramarg/waom_total/output_WAOM_check/ocean_avg_0003.nc\")\n",
    "ds4  = xr.open_dataset(\"/scratch/project_2000789/muramarg/waom_total/output_WAOM_check/ocean_avg_0004.nc\")\n",
    "ds5  = xr.open_dataset(\"/scratch/project_2000789/muramarg/waom_total/output_WAOM_check/ocean_avg_0005.nc\")\n",
    "ds6  = xr.open_dataset(\"/scratch/project_2000789/muramarg/waom_total/output_WAOM_check/ocean_avg_0006.nc\")\n",
    "ds7  = xr.open_dataset(\"/scratch/project_2000789/muramarg/waom_total/output_WAOM_check/ocean_avg_0007.nc\")\n",
    "ds8  = xr.open_dataset(\"/scratch/project_2000789/muramarg/waom_total/output_WAOM_check/ocean_avg_0008.nc\")\n",
    "ds9  = xr.open_dataset(\"/scratch/project_2000789/muramarg/waom_total/output_WAOM_check/ocean_avg_0009.nc\")\n",
    "ds10 = xr.open_dataset(\"/scratch/project_2000789/muramarg/waom_total/output_WAOM_check/ocean_avg_0010.nc\")\n",
    "ds11 = xr.open_dataset(\"/scratch/project_2000789/muramarg/waom_total/output_WAOM_check/ocean_avg_0011.nc\")\n",
    "ds12 = xr.open_dataset(\"/scratch/project_2000789/muramarg/waom_total/output_WAOM_check/ocean_avg_0012.nc\")"
   ]
  },
  {
   "cell_type": "code",
   "execution_count": 14,
   "id": "7cf07e00",
   "metadata": {},
   "outputs": [
    {
     "data": {
      "text/html": [
       "<div><svg style=\"position: absolute; width: 0; height: 0; overflow: hidden\">\n",
       "<defs>\n",
       "<symbol id=\"icon-database\" viewBox=\"0 0 32 32\">\n",
       "<path d=\"M16 0c-8.837 0-16 2.239-16 5v4c0 2.761 7.163 5 16 5s16-2.239 16-5v-4c0-2.761-7.163-5-16-5z\"></path>\n",
       "<path d=\"M16 17c-8.837 0-16-2.239-16-5v6c0 2.761 7.163 5 16 5s16-2.239 16-5v-6c0 2.761-7.163 5-16 5z\"></path>\n",
       "<path d=\"M16 26c-8.837 0-16-2.239-16-5v6c0 2.761 7.163 5 16 5s16-2.239 16-5v-6c0 2.761-7.163 5-16 5z\"></path>\n",
       "</symbol>\n",
       "<symbol id=\"icon-file-text2\" viewBox=\"0 0 32 32\">\n",
       "<path d=\"M28.681 7.159c-0.694-0.947-1.662-2.053-2.724-3.116s-2.169-2.030-3.116-2.724c-1.612-1.182-2.393-1.319-2.841-1.319h-15.5c-1.378 0-2.5 1.121-2.5 2.5v27c0 1.378 1.122 2.5 2.5 2.5h23c1.378 0 2.5-1.122 2.5-2.5v-19.5c0-0.448-0.137-1.23-1.319-2.841zM24.543 5.457c0.959 0.959 1.712 1.825 2.268 2.543h-4.811v-4.811c0.718 0.556 1.584 1.309 2.543 2.268zM28 29.5c0 0.271-0.229 0.5-0.5 0.5h-23c-0.271 0-0.5-0.229-0.5-0.5v-27c0-0.271 0.229-0.5 0.5-0.5 0 0 15.499-0 15.5 0v7c0 0.552 0.448 1 1 1h7v19.5z\"></path>\n",
       "<path d=\"M23 26h-14c-0.552 0-1-0.448-1-1s0.448-1 1-1h14c0.552 0 1 0.448 1 1s-0.448 1-1 1z\"></path>\n",
       "<path d=\"M23 22h-14c-0.552 0-1-0.448-1-1s0.448-1 1-1h14c0.552 0 1 0.448 1 1s-0.448 1-1 1z\"></path>\n",
       "<path d=\"M23 18h-14c-0.552 0-1-0.448-1-1s0.448-1 1-1h14c0.552 0 1 0.448 1 1s-0.448 1-1 1z\"></path>\n",
       "</symbol>\n",
       "</defs>\n",
       "</svg>\n",
       "<style>/* CSS stylesheet for displaying xarray objects in jupyterlab.\n",
       " *\n",
       " */\n",
       "\n",
       ":root {\n",
       "  --xr-font-color0: var(--jp-content-font-color0, rgba(0, 0, 0, 1));\n",
       "  --xr-font-color2: var(--jp-content-font-color2, rgba(0, 0, 0, 0.54));\n",
       "  --xr-font-color3: var(--jp-content-font-color3, rgba(0, 0, 0, 0.38));\n",
       "  --xr-border-color: var(--jp-border-color2, #e0e0e0);\n",
       "  --xr-disabled-color: var(--jp-layout-color3, #bdbdbd);\n",
       "  --xr-background-color: var(--jp-layout-color0, white);\n",
       "  --xr-background-color-row-even: var(--jp-layout-color1, white);\n",
       "  --xr-background-color-row-odd: var(--jp-layout-color2, #eeeeee);\n",
       "}\n",
       "\n",
       "html[theme=dark],\n",
       "body[data-theme=dark],\n",
       "body.vscode-dark {\n",
       "  --xr-font-color0: rgba(255, 255, 255, 1);\n",
       "  --xr-font-color2: rgba(255, 255, 255, 0.54);\n",
       "  --xr-font-color3: rgba(255, 255, 255, 0.38);\n",
       "  --xr-border-color: #1F1F1F;\n",
       "  --xr-disabled-color: #515151;\n",
       "  --xr-background-color: #111111;\n",
       "  --xr-background-color-row-even: #111111;\n",
       "  --xr-background-color-row-odd: #313131;\n",
       "}\n",
       "\n",
       ".xr-wrap {\n",
       "  display: block !important;\n",
       "  min-width: 300px;\n",
       "  max-width: 700px;\n",
       "}\n",
       "\n",
       ".xr-text-repr-fallback {\n",
       "  /* fallback to plain text repr when CSS is not injected (untrusted notebook) */\n",
       "  display: none;\n",
       "}\n",
       "\n",
       ".xr-header {\n",
       "  padding-top: 6px;\n",
       "  padding-bottom: 6px;\n",
       "  margin-bottom: 4px;\n",
       "  border-bottom: solid 1px var(--xr-border-color);\n",
       "}\n",
       "\n",
       ".xr-header > div,\n",
       ".xr-header > ul {\n",
       "  display: inline;\n",
       "  margin-top: 0;\n",
       "  margin-bottom: 0;\n",
       "}\n",
       "\n",
       ".xr-obj-type,\n",
       ".xr-array-name {\n",
       "  margin-left: 2px;\n",
       "  margin-right: 10px;\n",
       "}\n",
       "\n",
       ".xr-obj-type {\n",
       "  color: var(--xr-font-color2);\n",
       "}\n",
       "\n",
       ".xr-sections {\n",
       "  padding-left: 0 !important;\n",
       "  display: grid;\n",
       "  grid-template-columns: 150px auto auto 1fr 20px 20px;\n",
       "}\n",
       "\n",
       ".xr-section-item {\n",
       "  display: contents;\n",
       "}\n",
       "\n",
       ".xr-section-item input {\n",
       "  display: none;\n",
       "}\n",
       "\n",
       ".xr-section-item input + label {\n",
       "  color: var(--xr-disabled-color);\n",
       "}\n",
       "\n",
       ".xr-section-item input:enabled + label {\n",
       "  cursor: pointer;\n",
       "  color: var(--xr-font-color2);\n",
       "}\n",
       "\n",
       ".xr-section-item input:enabled + label:hover {\n",
       "  color: var(--xr-font-color0);\n",
       "}\n",
       "\n",
       ".xr-section-summary {\n",
       "  grid-column: 1;\n",
       "  color: var(--xr-font-color2);\n",
       "  font-weight: 500;\n",
       "}\n",
       "\n",
       ".xr-section-summary > span {\n",
       "  display: inline-block;\n",
       "  padding-left: 0.5em;\n",
       "}\n",
       "\n",
       ".xr-section-summary-in:disabled + label {\n",
       "  color: var(--xr-font-color2);\n",
       "}\n",
       "\n",
       ".xr-section-summary-in + label:before {\n",
       "  display: inline-block;\n",
       "  content: '►';\n",
       "  font-size: 11px;\n",
       "  width: 15px;\n",
       "  text-align: center;\n",
       "}\n",
       "\n",
       ".xr-section-summary-in:disabled + label:before {\n",
       "  color: var(--xr-disabled-color);\n",
       "}\n",
       "\n",
       ".xr-section-summary-in:checked + label:before {\n",
       "  content: '▼';\n",
       "}\n",
       "\n",
       ".xr-section-summary-in:checked + label > span {\n",
       "  display: none;\n",
       "}\n",
       "\n",
       ".xr-section-summary,\n",
       ".xr-section-inline-details {\n",
       "  padding-top: 4px;\n",
       "  padding-bottom: 4px;\n",
       "}\n",
       "\n",
       ".xr-section-inline-details {\n",
       "  grid-column: 2 / -1;\n",
       "}\n",
       "\n",
       ".xr-section-details {\n",
       "  display: none;\n",
       "  grid-column: 1 / -1;\n",
       "  margin-bottom: 5px;\n",
       "}\n",
       "\n",
       ".xr-section-summary-in:checked ~ .xr-section-details {\n",
       "  display: contents;\n",
       "}\n",
       "\n",
       ".xr-array-wrap {\n",
       "  grid-column: 1 / -1;\n",
       "  display: grid;\n",
       "  grid-template-columns: 20px auto;\n",
       "}\n",
       "\n",
       ".xr-array-wrap > label {\n",
       "  grid-column: 1;\n",
       "  vertical-align: top;\n",
       "}\n",
       "\n",
       ".xr-preview {\n",
       "  color: var(--xr-font-color3);\n",
       "}\n",
       "\n",
       ".xr-array-preview,\n",
       ".xr-array-data {\n",
       "  padding: 0 5px !important;\n",
       "  grid-column: 2;\n",
       "}\n",
       "\n",
       ".xr-array-data,\n",
       ".xr-array-in:checked ~ .xr-array-preview {\n",
       "  display: none;\n",
       "}\n",
       "\n",
       ".xr-array-in:checked ~ .xr-array-data,\n",
       ".xr-array-preview {\n",
       "  display: inline-block;\n",
       "}\n",
       "\n",
       ".xr-dim-list {\n",
       "  display: inline-block !important;\n",
       "  list-style: none;\n",
       "  padding: 0 !important;\n",
       "  margin: 0;\n",
       "}\n",
       "\n",
       ".xr-dim-list li {\n",
       "  display: inline-block;\n",
       "  padding: 0;\n",
       "  margin: 0;\n",
       "}\n",
       "\n",
       ".xr-dim-list:before {\n",
       "  content: '(';\n",
       "}\n",
       "\n",
       ".xr-dim-list:after {\n",
       "  content: ')';\n",
       "}\n",
       "\n",
       ".xr-dim-list li:not(:last-child):after {\n",
       "  content: ',';\n",
       "  padding-right: 5px;\n",
       "}\n",
       "\n",
       ".xr-has-index {\n",
       "  font-weight: bold;\n",
       "}\n",
       "\n",
       ".xr-var-list,\n",
       ".xr-var-item {\n",
       "  display: contents;\n",
       "}\n",
       "\n",
       ".xr-var-item > div,\n",
       ".xr-var-item label,\n",
       ".xr-var-item > .xr-var-name span {\n",
       "  background-color: var(--xr-background-color-row-even);\n",
       "  margin-bottom: 0;\n",
       "}\n",
       "\n",
       ".xr-var-item > .xr-var-name:hover span {\n",
       "  padding-right: 5px;\n",
       "}\n",
       "\n",
       ".xr-var-list > li:nth-child(odd) > div,\n",
       ".xr-var-list > li:nth-child(odd) > label,\n",
       ".xr-var-list > li:nth-child(odd) > .xr-var-name span {\n",
       "  background-color: var(--xr-background-color-row-odd);\n",
       "}\n",
       "\n",
       ".xr-var-name {\n",
       "  grid-column: 1;\n",
       "}\n",
       "\n",
       ".xr-var-dims {\n",
       "  grid-column: 2;\n",
       "}\n",
       "\n",
       ".xr-var-dtype {\n",
       "  grid-column: 3;\n",
       "  text-align: right;\n",
       "  color: var(--xr-font-color2);\n",
       "}\n",
       "\n",
       ".xr-var-preview {\n",
       "  grid-column: 4;\n",
       "}\n",
       "\n",
       ".xr-index-preview {\n",
       "  grid-column: 2 / 5;\n",
       "  color: var(--xr-font-color2);\n",
       "}\n",
       "\n",
       ".xr-var-name,\n",
       ".xr-var-dims,\n",
       ".xr-var-dtype,\n",
       ".xr-preview,\n",
       ".xr-attrs dt {\n",
       "  white-space: nowrap;\n",
       "  overflow: hidden;\n",
       "  text-overflow: ellipsis;\n",
       "  padding-right: 10px;\n",
       "}\n",
       "\n",
       ".xr-var-name:hover,\n",
       ".xr-var-dims:hover,\n",
       ".xr-var-dtype:hover,\n",
       ".xr-attrs dt:hover {\n",
       "  overflow: visible;\n",
       "  width: auto;\n",
       "  z-index: 1;\n",
       "}\n",
       "\n",
       ".xr-var-attrs,\n",
       ".xr-var-data,\n",
       ".xr-index-data {\n",
       "  display: none;\n",
       "  background-color: var(--xr-background-color) !important;\n",
       "  padding-bottom: 5px !important;\n",
       "}\n",
       "\n",
       ".xr-var-attrs-in:checked ~ .xr-var-attrs,\n",
       ".xr-var-data-in:checked ~ .xr-var-data,\n",
       ".xr-index-data-in:checked ~ .xr-index-data {\n",
       "  display: block;\n",
       "}\n",
       "\n",
       ".xr-var-data > table {\n",
       "  float: right;\n",
       "}\n",
       "\n",
       ".xr-var-name span,\n",
       ".xr-var-data,\n",
       ".xr-index-name div,\n",
       ".xr-index-data,\n",
       ".xr-attrs {\n",
       "  padding-left: 25px !important;\n",
       "}\n",
       "\n",
       ".xr-attrs,\n",
       ".xr-var-attrs,\n",
       ".xr-var-data,\n",
       ".xr-index-data {\n",
       "  grid-column: 1 / -1;\n",
       "}\n",
       "\n",
       "dl.xr-attrs {\n",
       "  padding: 0;\n",
       "  margin: 0;\n",
       "  display: grid;\n",
       "  grid-template-columns: 125px auto;\n",
       "}\n",
       "\n",
       ".xr-attrs dt,\n",
       ".xr-attrs dd {\n",
       "  padding: 0;\n",
       "  margin: 0;\n",
       "  float: left;\n",
       "  padding-right: 10px;\n",
       "  width: auto;\n",
       "}\n",
       "\n",
       ".xr-attrs dt {\n",
       "  font-weight: normal;\n",
       "  grid-column: 1;\n",
       "}\n",
       "\n",
       ".xr-attrs dt:hover span {\n",
       "  display: inline-block;\n",
       "  background: var(--xr-background-color);\n",
       "  padding-right: 10px;\n",
       "}\n",
       "\n",
       ".xr-attrs dd {\n",
       "  grid-column: 2;\n",
       "  white-space: pre-wrap;\n",
       "  word-break: break-all;\n",
       "}\n",
       "\n",
       ".xr-icon-database,\n",
       ".xr-icon-file-text2,\n",
       ".xr-no-icon {\n",
       "  display: inline-block;\n",
       "  vertical-align: middle;\n",
       "  width: 1em;\n",
       "  height: 1.5em !important;\n",
       "  stroke-width: 0;\n",
       "  stroke: currentColor;\n",
       "  fill: currentColor;\n",
       "}\n",
       "</style><pre class='xr-text-repr-fallback'>&lt;xarray.DataArray &#x27;shflux&#x27; (ocean_time: 4, eta_rho: 560, xi_rho: 630)&gt;\n",
       "[1411200 values with dtype=float32]\n",
       "Coordinates:\n",
       "    x_rho       (eta_rho, xi_rho) float64 ...\n",
       "    y_rho       (eta_rho, xi_rho) float64 ...\n",
       "  * ocean_time  (ocean_time) datetime64[ns] 2026-12-30T19:15:00 ... 2027-01-2...\n",
       "Dimensions without coordinates: eta_rho, xi_rho\n",
       "Attributes:\n",
       "    long_name:       time-averaged surface net heat flux\n",
       "    units:           watt meter-2\n",
       "    negative_value:  upward flux, cooling\n",
       "    positive_value:  downward flux, heating\n",
       "    time:            ocean_time\n",
       "    field:           surface heat flux, scalar, series</pre><div class='xr-wrap' style='display:none'><div class='xr-header'><div class='xr-obj-type'>xarray.DataArray</div><div class='xr-array-name'>'shflux'</div><ul class='xr-dim-list'><li><span class='xr-has-index'>ocean_time</span>: 4</li><li><span>eta_rho</span>: 560</li><li><span>xi_rho</span>: 630</li></ul></div><ul class='xr-sections'><li class='xr-section-item'><div class='xr-array-wrap'><input id='section-1d396580-be81-4c2c-b098-578cf18a2233' class='xr-array-in' type='checkbox' checked><label for='section-1d396580-be81-4c2c-b098-578cf18a2233' title='Show/hide data repr'><svg class='icon xr-icon-database'><use xlink:href='#icon-database'></use></svg></label><div class='xr-array-preview xr-preview'><span>...</span></div><div class='xr-array-data'><pre>[1411200 values with dtype=float32]</pre></div></div></li><li class='xr-section-item'><input id='section-7ea9fc60-1428-447f-abcc-881fb797f7fc' class='xr-section-summary-in' type='checkbox'  checked><label for='section-7ea9fc60-1428-447f-abcc-881fb797f7fc' class='xr-section-summary' >Coordinates: <span>(3)</span></label><div class='xr-section-inline-details'></div><div class='xr-section-details'><ul class='xr-var-list'><li class='xr-var-item'><div class='xr-var-name'><span>x_rho</span></div><div class='xr-var-dims'>(eta_rho, xi_rho)</div><div class='xr-var-dtype'>float64</div><div class='xr-var-preview xr-preview'>...</div><input id='attrs-b368cbc0-a6e4-4595-a515-1032bf69601b' class='xr-var-attrs-in' type='checkbox' ><label for='attrs-b368cbc0-a6e4-4595-a515-1032bf69601b' title='Show/Hide attributes'><svg class='icon xr-icon-file-text2'><use xlink:href='#icon-file-text2'></use></svg></label><input id='data-a02c65ec-b155-49b4-b567-87ea26254c15' class='xr-var-data-in' type='checkbox'><label for='data-a02c65ec-b155-49b4-b567-87ea26254c15' title='Show/Hide data repr'><svg class='icon xr-icon-database'><use xlink:href='#icon-database'></use></svg></label><div class='xr-var-attrs'><dl class='xr-attrs'><dt><span>long_name :</span></dt><dd>x-locations of RHO-points</dd><dt><span>units :</span></dt><dd>meter</dd><dt><span>field :</span></dt><dd>x_rho, scalar</dd></dl></div><div class='xr-var-data'><pre>[352800 values with dtype=float64]</pre></div></li><li class='xr-var-item'><div class='xr-var-name'><span>y_rho</span></div><div class='xr-var-dims'>(eta_rho, xi_rho)</div><div class='xr-var-dtype'>float64</div><div class='xr-var-preview xr-preview'>...</div><input id='attrs-8bad0b54-844c-43a2-b63c-ae9b13ce8633' class='xr-var-attrs-in' type='checkbox' ><label for='attrs-8bad0b54-844c-43a2-b63c-ae9b13ce8633' title='Show/Hide attributes'><svg class='icon xr-icon-file-text2'><use xlink:href='#icon-file-text2'></use></svg></label><input id='data-85d13974-baf4-4419-99e5-eabe2ac45f66' class='xr-var-data-in' type='checkbox'><label for='data-85d13974-baf4-4419-99e5-eabe2ac45f66' title='Show/Hide data repr'><svg class='icon xr-icon-database'><use xlink:href='#icon-database'></use></svg></label><div class='xr-var-attrs'><dl class='xr-attrs'><dt><span>long_name :</span></dt><dd>y-locations of RHO-points</dd><dt><span>units :</span></dt><dd>meter</dd><dt><span>field :</span></dt><dd>y_rho, scalar</dd></dl></div><div class='xr-var-data'><pre>[352800 values with dtype=float64]</pre></div></li><li class='xr-var-item'><div class='xr-var-name'><span class='xr-has-index'>ocean_time</span></div><div class='xr-var-dims'>(ocean_time)</div><div class='xr-var-dtype'>datetime64[ns]</div><div class='xr-var-preview xr-preview'>2026-12-30T19:15:00 ... 2027-01-...</div><input id='attrs-d1df66db-9f0e-48ac-afc7-40fd1ba7c0d1' class='xr-var-attrs-in' type='checkbox' ><label for='attrs-d1df66db-9f0e-48ac-afc7-40fd1ba7c0d1' title='Show/Hide attributes'><svg class='icon xr-icon-file-text2'><use xlink:href='#icon-file-text2'></use></svg></label><input id='data-788a82f8-c7c9-44cb-8c4b-9d93d71422f1' class='xr-var-data-in' type='checkbox'><label for='data-788a82f8-c7c9-44cb-8c4b-9d93d71422f1' title='Show/Hide data repr'><svg class='icon xr-icon-database'><use xlink:href='#icon-database'></use></svg></label><div class='xr-var-attrs'><dl class='xr-attrs'><dt><span>long_name :</span></dt><dd>averaged time since initialization</dd><dt><span>field :</span></dt><dd>time, scalar, series</dd></dl></div><div class='xr-var-data'><pre>array([&#x27;2026-12-30T19:15:00.000000000&#x27;, &#x27;2027-01-07T09:45:00.000000000&#x27;,\n",
       "       &#x27;2027-01-15T00:15:00.000000000&#x27;, &#x27;2027-01-22T14:45:00.000000000&#x27;],\n",
       "      dtype=&#x27;datetime64[ns]&#x27;)</pre></div></li></ul></div></li><li class='xr-section-item'><input id='section-c40de38d-cf27-44ca-b3ad-f1ca0f55ce83' class='xr-section-summary-in' type='checkbox'  ><label for='section-c40de38d-cf27-44ca-b3ad-f1ca0f55ce83' class='xr-section-summary' >Indexes: <span>(1)</span></label><div class='xr-section-inline-details'></div><div class='xr-section-details'><ul class='xr-var-list'><li class='xr-var-item'><div class='xr-index-name'><div>ocean_time</div></div><div class='xr-index-preview'>PandasIndex</div><div></div><input id='index-99ae59c9-6deb-4944-b191-1fbf1d084699' class='xr-index-data-in' type='checkbox'/><label for='index-99ae59c9-6deb-4944-b191-1fbf1d084699' title='Show/Hide index repr'><svg class='icon xr-icon-database'><use xlink:href='#icon-database'></use></svg></label><div class='xr-index-data'><pre>PandasIndex(DatetimeIndex([&#x27;2026-12-30 19:15:00&#x27;, &#x27;2027-01-07 09:45:00&#x27;,\n",
       "               &#x27;2027-01-15 00:15:00&#x27;, &#x27;2027-01-22 14:45:00&#x27;],\n",
       "              dtype=&#x27;datetime64[ns]&#x27;, name=&#x27;ocean_time&#x27;, freq=None))</pre></div></li></ul></div></li><li class='xr-section-item'><input id='section-6588845c-a799-47d0-9135-17e939a9ed36' class='xr-section-summary-in' type='checkbox'  checked><label for='section-6588845c-a799-47d0-9135-17e939a9ed36' class='xr-section-summary' >Attributes: <span>(6)</span></label><div class='xr-section-inline-details'></div><div class='xr-section-details'><dl class='xr-attrs'><dt><span>long_name :</span></dt><dd>time-averaged surface net heat flux</dd><dt><span>units :</span></dt><dd>watt meter-2</dd><dt><span>negative_value :</span></dt><dd>upward flux, cooling</dd><dt><span>positive_value :</span></dt><dd>downward flux, heating</dd><dt><span>time :</span></dt><dd>ocean_time</dd><dt><span>field :</span></dt><dd>surface heat flux, scalar, series</dd></dl></div></li></ul></div></div>"
      ],
      "text/plain": [
       "<xarray.DataArray 'shflux' (ocean_time: 4, eta_rho: 560, xi_rho: 630)>\n",
       "[1411200 values with dtype=float32]\n",
       "Coordinates:\n",
       "    x_rho       (eta_rho, xi_rho) float64 ...\n",
       "    y_rho       (eta_rho, xi_rho) float64 ...\n",
       "  * ocean_time  (ocean_time) datetime64[ns] 2026-12-30T19:15:00 ... 2027-01-2...\n",
       "Dimensions without coordinates: eta_rho, xi_rho\n",
       "Attributes:\n",
       "    long_name:       time-averaged surface net heat flux\n",
       "    units:           watt meter-2\n",
       "    negative_value:  upward flux, cooling\n",
       "    positive_value:  downward flux, heating\n",
       "    time:            ocean_time\n",
       "    field:           surface heat flux, scalar, series"
      ]
     },
     "execution_count": 14,
     "metadata": {},
     "output_type": "execute_result"
    }
   ],
   "source": [
    "ds1.shflux"
   ]
  },
  {
   "cell_type": "code",
   "execution_count": 31,
   "id": "ba4e0b79",
   "metadata": {},
   "outputs": [],
   "source": [
    "dg = xr.open_dataset(\"/scratch/project_2000789/muramarg/copied_files/waom10extend_grd.nc\")"
   ]
  },
  {
   "cell_type": "code",
   "execution_count": 33,
   "id": "38fbe2ef",
   "metadata": {},
   "outputs": [],
   "source": [
    "polynyas = np.zeros((12,104,2))"
   ]
  },
  {
   "cell_type": "code",
   "execution_count": 41,
   "id": "065bbf9c",
   "metadata": {},
   "outputs": [
    {
     "name": "stdout",
     "output_type": "stream",
     "text": [
      "(0,)\n",
      "(0,)\n",
      "(7,)\n",
      "(63,)\n",
      "(16,)\n",
      "(78,)\n",
      "(75,)\n",
      "(72,)\n",
      "(41,)\n",
      "(2,)\n",
      "(0,)\n",
      "(0,)\n"
     ]
    }
   ],
   "source": [
    "i = 0\n",
    "for ds in ds1,ds2,ds3,ds4,ds5,ds6,ds7,ds8,ds9,ds10,ds11,ds12:\n",
    "    #xh,yh = sh_points(ds,-120,6,[450,600],[300,450])\n",
    "    #xs,ys = ss_points(ds,1.3e-5,6,[450,600],[300,450])\n",
    "    xh,yh = sh_points(ds,-125,6,[450,600],[300,450])\n",
    "    xs,ys = ss_points(ds,1.4e-5,6,[450,600],[300,450])\n",
    "    \n",
    "    x,y = mergepoints(xh,yh,xs,ys,dg.h.values)\n",
    "    \n",
    "    stack = np.stack((x,y)).T\n",
    "    intersect = np.zeros(unique_array.shape)\n",
    "    print(x.shape)\n",
    "    #stackflat = print(stack.shape)\n",
    "    #print(unique_array.shape)\n",
    "    for p in range(len(stack)):\n",
    "        if stack[p] in unique_array:\n",
    "            intersect[p] = stack[p]\n",
    "            \n",
    "            \n",
    "    non_zero_rows = ~np.all(intersect == 0, axis=1)\n",
    "\n",
    "    # Filter out rows with all zeros\n",
    "    arr_filtered = intersect[non_zero_rows]\n",
    "    polynyas[i,:arr_filtered.shape[0],:]=arr_filtered\n",
    "    i += 1"
   ]
  },
  {
   "cell_type": "code",
   "execution_count": 42,
   "id": "98a76c44",
   "metadata": {},
   "outputs": [],
   "source": [
    "# now we can use arr_filtered to create a new list of indices in the array\n",
    "df = xr.open_dataset(\"/scratch/project_2000789/muramarg/waom_total/output_WAOM_check/ocean_flt.nc\")"
   ]
  },
  {
   "cell_type": "code",
   "execution_count": 43,
   "id": "739ef7e5",
   "metadata": {},
   "outputs": [],
   "source": [
    "xgrid = df.Xgrid.values\n",
    "ygrid = df.Ygrid.values"
   ]
  },
  {
   "cell_type": "code",
   "execution_count": 44,
   "id": "e6096576",
   "metadata": {},
   "outputs": [
    {
     "name": "stdout",
     "output_type": "stream",
     "text": [
      "[471. 471. 471. ... 597. 597. 597.]\n"
     ]
    }
   ],
   "source": [
    "first_non_nan_indices = []\n",
    "for col in range(xgrid.shape[1]):\n",
    "    # Find indices of non-NaN values in the column\n",
    "    non_nan_indices = np.where(~np.isnan(xgrid[:, col]))[0]\n",
    "    if len(non_nan_indices) > 0:\n",
    "        # Select the first non-NaN value index\n",
    "        first_non_nan_indices.append(non_nan_indices[0])\n",
    "\n",
    "# Now, first_non_nan_indices contains the index of the first non-NaN value in each column\n",
    "# Use these indices to extract the corresponding values\n",
    "first_non_nan_values = xgrid[first_non_nan_indices, np.arange(xgrid.shape[1])]\n",
    "\n",
    "print(first_non_nan_values)"
   ]
  },
  {
   "cell_type": "code",
   "execution_count": 45,
   "id": "3ea889d4",
   "metadata": {},
   "outputs": [
    {
     "name": "stdout",
     "output_type": "stream",
     "text": [
      "[369. 369. 369. ... 428. 428. 428.]\n"
     ]
    }
   ],
   "source": [
    "first_non_nan_indices = []\n",
    "for col in range(ygrid.shape[1]):\n",
    "    # Find indices of non-NaN values in the column\n",
    "    non_nan_indices = np.where(~np.isnan(ygrid[:, col]))[0]\n",
    "    if len(non_nan_indices) > 0:\n",
    "        # Select the first non-NaN value index\n",
    "        first_non_nan_indices.append(non_nan_indices[0])\n",
    "\n",
    "# Now, first_non_nan_indices contains the index of the first non-NaN value in each column\n",
    "# Use these indices to extract the corresponding values\n",
    "first_non_nan_valuesy = ygrid[first_non_nan_indices, np.arange(ygrid.shape[1])]\n",
    "\n",
    "print(first_non_nan_valuesy)"
   ]
  },
  {
   "cell_type": "code",
   "execution_count": 46,
   "id": "734b08d7",
   "metadata": {},
   "outputs": [
    {
     "data": {
      "text/plain": [
       "(20332, 2)"
      ]
     },
     "execution_count": 46,
     "metadata": {},
     "output_type": "execute_result"
    }
   ],
   "source": [
    "stack_flt = np.stack((first_non_nan_values,first_non_nan_valuesy)).T\n",
    "stack_flt.shape"
   ]
  },
  {
   "cell_type": "code",
   "execution_count": 47,
   "id": "6d7765eb",
   "metadata": {},
   "outputs": [
    {
     "data": {
      "text/plain": [
       "array([[471., 369.],\n",
       "       [471., 369.],\n",
       "       [471., 369.],\n",
       "       ...,\n",
       "       [597., 428.],\n",
       "       [597., 428.],\n",
       "       [597., 428.]], dtype=float32)"
      ]
     },
     "execution_count": 47,
     "metadata": {},
     "output_type": "execute_result"
    }
   ],
   "source": [
    "# each release point in stack_flt should be released (52 for each)\n",
    "stack_flt  # 391 points, 52 for each point"
   ]
  },
  {
   "cell_type": "code",
   "execution_count": 48,
   "id": "9656c90d",
   "metadata": {},
   "outputs": [
    {
     "name": "stdout",
     "output_type": "stream",
     "text": [
      "391\n"
     ]
    }
   ],
   "source": [
    "point_tuples = [tuple(row) for row in stack_flt]\n",
    "\n",
    "# Use set() to find unique tuples\n",
    "unique_points = set(point_tuples)\n",
    "\n",
    "# Get the number of unique points\n",
    "num_unique_points = len(unique_points)\n",
    "\n",
    "print(num_unique_points)"
   ]
  },
  {
   "cell_type": "code",
   "execution_count": 49,
   "id": "4515dd4f",
   "metadata": {},
   "outputs": [],
   "source": [
    "# 4 4 5 4 4 4 5 4 5 4 5 \n",
    "\n",
    "# for i in stack_flt\n",
    "stupid_months = np.array([0,0,0,0,1,1,1,1,2,2,2,2,2,3,3,3,3,4,4,4,4,5,5,5,5,6,6,6,6,6,7,7,7,7,8,8,8,8,9,9,9,9,9,10,10,10,10,11,11,11,11,11])"
   ]
  },
  {
   "cell_type": "code",
   "execution_count": 50,
   "id": "0c6b71d9",
   "metadata": {},
   "outputs": [],
   "source": [
    "months = np.zeros((20332))\n",
    "pol_idx = np.array([],dtype=int)\n",
    "firsti = 0\n",
    "\n",
    "for point in range(len(stack_flt)):\n",
    "    # get the points from the current polynya\n",
    "    mym = stupid_months[firsti]\n",
    "    mym = polynyas[mym]\n",
    "    \n",
    "    # see if point is in mym\n",
    "    if stack_flt[point] in mym:\n",
    "        pol_idx = np.append(pol_idx,point)\n",
    "    \n",
    "    firsti += 1\n",
    "    if firsti == 51:\n",
    "        firsti = 0"
   ]
  },
  {
   "cell_type": "code",
   "execution_count": 51,
   "id": "68df7ac3",
   "metadata": {},
   "outputs": [],
   "source": [
    "pol_idx.tofile(\"/scratch/project_2000789/muramarg/floats_WAOM/text_files/polynyaidx_3_27_limited.txt\",sep=\",\")"
   ]
  },
  {
   "cell_type": "code",
   "execution_count": null,
   "id": "ebc17561",
   "metadata": {},
   "outputs": [],
   "source": []
  }
 ],
 "metadata": {
  "kernelspec": {
   "display_name": "Python 3 (ipykernel)",
   "language": "python",
   "name": "python3"
  },
  "language_info": {
   "codemirror_mode": {
    "name": "ipython",
    "version": 3
   },
   "file_extension": ".py",
   "mimetype": "text/x-python",
   "name": "python",
   "nbconvert_exporter": "python",
   "pygments_lexer": "ipython3",
   "version": "3.10.9"
  }
 },
 "nbformat": 4,
 "nbformat_minor": 5
}
