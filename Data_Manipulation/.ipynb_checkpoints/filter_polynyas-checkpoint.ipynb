{
 "cells": [
  {
   "cell_type": "code",
   "execution_count": 2,
   "id": "80891957",
   "metadata": {},
   "outputs": [],
   "source": [
    "import numpy as np\n",
    "import xarray as xr"
   ]
  },
  {
   "cell_type": "code",
   "execution_count": 3,
   "id": "1734b14c",
   "metadata": {},
   "outputs": [],
   "source": [
    "# get the release points from the xgrid and ygrid of dsw\n",
    "xgrid = np.fromfile(\"/scratch/project_2000789/muramarg/floats_WAOM/text_files/xgrid_dsw.txt\",sep=\",\")\n",
    "ygrid = np.fromfile(\"/scratch/project_2000789/muramarg/floats_WAOM/text_files/ygrid_dsw.txt\",sep=\",\")\n",
    "\n",
    "xgrid = xgrid.reshape((35040,-1))\n",
    "ygrid = ygrid.reshape((35040,-1))\n",
    "\n",
    "# for each point, get the corresponding release values of salt and heat flux from the datasets"
   ]
  },
  {
   "cell_type": "code",
   "execution_count": 5,
   "id": "a31b40e3",
   "metadata": {},
   "outputs": [
    {
     "data": {
      "text/plain": [
       "(4458,)"
      ]
     },
     "execution_count": 5,
     "metadata": {},
     "output_type": "execute_result"
    }
   ],
   "source": [
    "# these are the indices in which we are selecting from dataset\n",
    "pol_locs = np.fromfile(\"/scratch/project_2000789/muramarg/floats_WAOM/text_files/pollocs_dsw.txt\",sep=\",\")\n",
    "pol_locs = pol_locs.astype(int)\n",
    "pol_locs.shape"
   ]
  },
  {
   "cell_type": "code",
   "execution_count": 6,
   "id": "f37f8439",
   "metadata": {},
   "outputs": [
    {
     "data": {
      "text/plain": [
       "(35040, 4458)"
      ]
     },
     "execution_count": 6,
     "metadata": {},
     "output_type": "execute_result"
    }
   ],
   "source": [
    "# we need the time at which each particle was released\n",
    "xgrid.shape"
   ]
  },
  {
   "cell_type": "code",
   "execution_count": 11,
   "id": "47e868dd",
   "metadata": {},
   "outputs": [],
   "source": [
    "numbers = np.arange(0, 52)\n",
    "\n",
    "# Repeat the numbers to match the desired shape (20332)\n",
    "repeated_numbers = np.tile(numbers, 391)\n",
    "\n",
    "# Reshape the array to the desired shape (20332)\n",
    "array_shape_20332 = repeated_numbers.reshape(20332)\n",
    "\n",
    "# Printing the array for verification\n",
    "week_release = array_shape_20332[pol_locs]"
   ]
  },
  {
   "cell_type": "code",
   "execution_count": 10,
   "id": "ecfa28d7",
   "metadata": {},
   "outputs": [],
   "source": [
    "# make an array of the values \n",
    "stupid_months = np.array([0,0,0,0,1,1,1,1,2,2,2,2,2,3,3,3,3,4,4,4,4,5,5,5,5,6,6,6,6,6,7,7,7,7,8,8,8,8,9,9,9,9,9,10,10,10,10,11,11,11,11,11])"
   ]
  },
  {
   "cell_type": "code",
   "execution_count": 12,
   "id": "fdb37aba",
   "metadata": {},
   "outputs": [],
   "source": [
    "ds1  = xr.open_dataset(\"/scratch/project_2000789/muramarg/waom_total/output_WAOM_check/ocean_avg_0001.nc\")\n",
    "ds2  = xr.open_dataset(\"/scratch/project_2000789/muramarg/waom_total/output_WAOM_check/ocean_avg_0002.nc\")\n",
    "ds3  = xr.open_dataset(\"/scratch/project_2000789/muramarg/waom_total/output_WAOM_check/ocean_avg_0003.nc\")\n",
    "ds4  = xr.open_dataset(\"/scratch/project_2000789/muramarg/waom_total/output_WAOM_check/ocean_avg_0004.nc\")\n",
    "ds5  = xr.open_dataset(\"/scratch/project_2000789/muramarg/waom_total/output_WAOM_check/ocean_avg_0005.nc\")\n",
    "ds6  = xr.open_dataset(\"/scratch/project_2000789/muramarg/waom_total/output_WAOM_check/ocean_avg_0006.nc\")\n",
    "ds7  = xr.open_dataset(\"/scratch/project_2000789/muramarg/waom_total/output_WAOM_check/ocean_avg_0007.nc\")\n",
    "ds8  = xr.open_dataset(\"/scratch/project_2000789/muramarg/waom_total/output_WAOM_check/ocean_avg_0008.nc\")\n",
    "ds9  = xr.open_dataset(\"/scratch/project_2000789/muramarg/waom_total/output_WAOM_check/ocean_avg_0009.nc\")\n",
    "ds10 = xr.open_dataset(\"/scratch/project_2000789/muramarg/waom_total/output_WAOM_check/ocean_avg_0010.nc\")\n",
    "ds11 = xr.open_dataset(\"/scratch/project_2000789/muramarg/waom_total/output_WAOM_check/ocean_avg_0011.nc\")\n",
    "ds12 = xr.open_dataset(\"/scratch/project_2000789/muramarg/waom_total/output_WAOM_check/ocean_avg_0012.nc\")"
   ]
  },
  {
   "cell_type": "code",
   "execution_count": 17,
   "id": "263f4ac1",
   "metadata": {},
   "outputs": [
    {
     "data": {
      "text/plain": [
       "(12, 560, 630)"
      ]
     },
     "execution_count": 17,
     "metadata": {},
     "output_type": "execute_result"
    }
   ],
   "source": [
    "shfluxes = np.array([np.mean(ds1.shflux.values,axis=0),\n",
    "                     np.mean(ds2.shflux.values,axis=0),\n",
    "                     np.mean(ds3.shflux.values,axis=0),\n",
    "                     np.mean(ds4.shflux.values,axis=0),\n",
    "                     np.mean(ds5.shflux.values,axis=0),\n",
    "                     np.mean(ds6.shflux.values,axis=0),\n",
    "                     np.mean(ds7.shflux.values,axis=0),\n",
    "                     np.mean(ds8.shflux.values,axis=0),\n",
    "                     np.mean(ds9.shflux.values,axis=0),\n",
    "                     np.mean(ds10.shflux.values,axis=0),\n",
    "                     np.mean(ds11.shflux.values,axis=0),\n",
    "                     np.mean(ds12.shflux.values,axis=0),])\n",
    "shfluxes.shape"
   ]
  },
  {
   "cell_type": "code",
   "execution_count": 30,
   "id": "6132b940",
   "metadata": {},
   "outputs": [
    {
     "data": {
      "text/plain": [
       "(12, 560, 630)"
      ]
     },
     "execution_count": 30,
     "metadata": {},
     "output_type": "execute_result"
    }
   ],
   "source": [
    "ssfluxes = np.array([np.mean(ds1.ssflux.values,axis=0),\n",
    "                     np.mean(ds2.ssflux.values,axis=0),\n",
    "                     np.mean(ds3.ssflux.values,axis=0),\n",
    "                     np.mean(ds4.ssflux.values,axis=0),\n",
    "                     np.mean(ds5.ssflux.values,axis=0),\n",
    "                     np.mean(ds6.ssflux.values,axis=0),\n",
    "                     np.mean(ds7.ssflux.values,axis=0),\n",
    "                     np.mean(ds8.ssflux.values,axis=0),\n",
    "                     np.mean(ds9.ssflux.values,axis=0),\n",
    "                     np.mean(ds10.ssflux.values,axis=0),\n",
    "                     np.mean(ds11.ssflux.values,axis=0),\n",
    "                     np.mean(ds12.ssflux.values,axis=0),])\n",
    "ssfluxes.shape"
   ]
  },
  {
   "cell_type": "code",
   "execution_count": 53,
   "id": "08501f10",
   "metadata": {},
   "outputs": [
    {
     "name": "stdout",
     "output_type": "stream",
     "text": [
      "2067\n"
     ]
    }
   ],
   "source": [
    "# let's just use these indices, this might (probably is) wrong\n",
    "new_locs = np.array([])\n",
    "\n",
    "# loop through the week_release\n",
    "x1 = xgrid[0]\n",
    "y1 = ygrid[0]\n",
    "\n",
    "total = 0\n",
    "for i,j,m,idx in zip(x1,y1,week_release,pol_locs):\n",
    "    #print(i,j)\n",
    "    mymonth = stupid_months[m]\n",
    "    myshflux = shfluxes[mymonth]\n",
    "    myssflux = ssfluxes[mymonth]\n",
    "    \n",
    "    if myshflux[int(j)][int(i)] < -110:\n",
    "        if myssflux[int(j)][int(i)] > 0.7e-5:\n",
    "            total += 1\n",
    "            new_locs = np.append(new_locs,idx)\n",
    "print(total)"
   ]
  },
  {
   "cell_type": "code",
   "execution_count": 55,
   "id": "c71e0270",
   "metadata": {},
   "outputs": [],
   "source": [
    "new_locs = new_locs.astype(int)"
   ]
  },
  {
   "cell_type": "code",
   "execution_count": 56,
   "id": "b4c2634f",
   "metadata": {},
   "outputs": [],
   "source": [
    "new_locs.tofile(\"/scratch/project_2000789/muramarg/floats_WAOM/text_files/newlocs.txt\",sep=\",\")"
   ]
  },
  {
   "cell_type": "code",
   "execution_count": 57,
   "id": "d1870ea4",
   "metadata": {},
   "outputs": [
    {
     "data": {
      "text/plain": [
       "array([  592,   595,   647, ..., 19059, 19060, 19063])"
      ]
     },
     "execution_count": 57,
     "metadata": {},
     "output_type": "execute_result"
    }
   ],
   "source": [
    "new_locs"
   ]
  },
  {
   "cell_type": "code",
   "execution_count": null,
   "id": "f019f445",
   "metadata": {},
   "outputs": [],
   "source": []
  }
 ],
 "metadata": {
  "kernelspec": {
   "display_name": "Python 3 (ipykernel)",
   "language": "python",
   "name": "python3"
  },
  "language_info": {
   "codemirror_mode": {
    "name": "ipython",
    "version": 3
   },
   "file_extension": ".py",
   "mimetype": "text/x-python",
   "name": "python",
   "nbconvert_exporter": "python",
   "pygments_lexer": "ipython3",
   "version": "3.10.9"
  }
 },
 "nbformat": 4,
 "nbformat_minor": 5
}
