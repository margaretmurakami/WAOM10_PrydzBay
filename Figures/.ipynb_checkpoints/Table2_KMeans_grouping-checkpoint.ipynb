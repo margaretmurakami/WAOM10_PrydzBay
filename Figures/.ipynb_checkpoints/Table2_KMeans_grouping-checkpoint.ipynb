{
 "cells": [
  {
   "cell_type": "markdown",
   "id": "4df95f28",
   "metadata": {},
   "source": [
    "## Finalizing thesis diagrams\n",
    "\n",
    "This notebook will finalize diagrams for the thesis to insure that all use the same grouping of elements. This will slice the dataframe by one year and add the diagrams."
   ]
  },
  {
   "cell_type": "code",
   "execution_count": 3,
   "id": "57ffcdda",
   "metadata": {},
   "outputs": [],
   "source": [
    "# Do not modify import block, all necessary imports are included\n",
    "# Our regular libraries\n",
    "import pandas as pd\n",
    "import numpy as np\n",
    "import matplotlib.pyplot as plt\n",
    "import matplotlib.cm as cm\n",
    "import xarray as xr\n",
    "%matplotlib inline\n",
    "\n",
    "# This is for our hierarchical clustering\n",
    "from scipy.cluster.hierarchy import dendrogram, linkage, cophenet\n",
    "from scipy.spatial.distance import pdist\n",
    "from scipy.spatial.distance import squareform\n",
    "from scipy.cluster.hierarchy import fcluster\n",
    "\n",
    "# For our k-means clustering\n",
    "from sklearn.cluster import KMeans\n",
    "from sklearn.metrics import silhouette_samples\n",
    "from sklearn import datasets\n",
    "import random\n",
    "\n",
    "# for plotting\n",
    "import cartopy.crs as ccrs\n",
    "import cartopy.feature as cfeature\n",
    "\n",
    "# this is for density plotting\n",
    "from matplotlib import colorbar, colors\n",
    "import matplotlib as mpl\n",
    "from matplotlib.colors import ListedColormap, LinearSegmentedColormap\n",
    "# import gsw\n",
    "import math\n",
    "\n",
    "# for the polygon intersections\n",
    "import shapely.geometry as sg\n",
    "import descartes\n",
    "\n",
    "# for plotting\n",
    "import time\n",
    "import warnings\n",
    "warnings.filterwarnings('ignore')\n",
    "\n",
    "#import \"/scratch/project_2000789/muramarg/miniconda3/lib/python3.10/site-packages/gsw\"\n",
    "import sys\n",
    " \n",
    "# appending a path\n",
    "sys.path.append('/scratch/project_2000789/muramarg/miniconda3/lib/python3.10/site-packages/')\n",
    " \n",
    "# importing required module\n",
    "import gsw\n",
    "\n",
    "from scipy.interpolate import interpn"
   ]
  },
  {
   "cell_type": "markdown",
   "id": "e55de36f",
   "metadata": {},
   "source": [
    "### Slice the points by one year, load the release points, load the dataframe for KMeans"
   ]
  },
  {
   "cell_type": "code",
   "execution_count": 4,
   "id": "e7ee34ee",
   "metadata": {},
   "outputs": [],
   "source": [
    "# load the libraries\n",
    "ds = xr.open_dataset('/scratch/project_2000789/muramarg/waom_total/output_WAOM_check/ocean_flt.nc')"
   ]
  },
  {
   "cell_type": "code",
   "execution_count": 3,
   "id": "7b0e58ba",
   "metadata": {},
   "outputs": [],
   "source": [
    "# startingidx = np.array([],dtype=int)\n",
    "\n",
    "# # slice the floats by one year\n",
    "# idx_arr = np.empty((2,20332),dtype=int)\n",
    "# x = ds.variables[\"Xgrid\"].values\n",
    "# for i in range(idx_arr.shape[1]):\n",
    "#     # get the indices in that row in the xgrid\n",
    "#     thisrow = x[:,i]\n",
    "#     nonna = thisrow[~np.isnan(thisrow)]\n",
    "#     startidx = len(thisrow)-len(nonna)\n",
    "#     endidx = int(startidx + ((86400/900)*365))\n",
    "#     idx_arr[0][i] = startidx\n",
    "#     idx_arr[1][i] = endidx\n",
    "    \n",
    "    \n",
    "#     # see if the start idx\n",
    "#     startingidx = np.append(startingidx,startidx)"
   ]
  },
  {
   "cell_type": "code",
   "execution_count": 4,
   "id": "45fb66f6",
   "metadata": {},
   "outputs": [],
   "source": [
    "# # slice the floats by one year\n",
    "# idx_arr = np.empty((2,20332),dtype=int)\n",
    "# x = ds.variables[\"Xgrid\"].values\n",
    "# for i in range(idx_arr.shape[1]):\n",
    "#     # get the indices in that row in the xgrid\n",
    "#     thisrow = x[:,i]\n",
    "#     nonna = thisrow[~np.isnan(thisrow)]\n",
    "#     startidx = len(thisrow)-len(nonna)\n",
    "#     endidx = int(startidx + ((86400/900)*365))\n",
    "#     idx_arr[0][i] = startidx\n",
    "#     idx_arr[1][i] = endidx\n",
    "# all_xgrid = ds.variables['Xgrid'].values\n",
    "# all_ygrid = ds.variables['Ygrid'].values\n",
    "# xgrid = np.empty((35040,20332))\n",
    "# ygrid = np.empty((35040,20332))\n",
    "\n",
    "# for i in range(idx_arr.shape[1]):\n",
    "#     idxs = idx_arr[:,i]\n",
    "#     thisx = all_xgrid[:,i][idxs[0]:idxs[1]]\n",
    "#     thisy = all_ygrid[:,i][idxs[0]:idxs[1]]\n",
    "    \n",
    "#     # add these values to our new xgrid and ygrid for one year\n",
    "#     xgrid[:,i] = thisx\n",
    "#     ygrid[:,i] = thisy"
   ]
  },
  {
   "cell_type": "code",
   "execution_count": 5,
   "id": "68c28b37",
   "metadata": {},
   "outputs": [],
   "source": [
    "# # get the recorded times in the history file\n",
    "# ds2 = xr.open_dataset('/scratch/project_2000789/muramarg/waom_total/output_WAOM_check/ocean_his_0001.nc')\n",
    "# his_times = ds2.variables[\"ocean_time\"].values[:12]\n",
    "# # make the array whether it is in a polynya\n",
    "# releasept = np.stack((xgrid[0],ygrid[0])).T                     # points where floats are released\n",
    "# release_time = ds.coords[\"ocean_time\"].values[startingidx]      # corresponding dates of release\n",
    "# # find nearest time value in his_times of release_time\n",
    "# for i in range(len(release_time)):\n",
    "#     value = release_time[i]\n",
    "#     nearest = np.searchsorted(his_times, value, side=\"right\")\n",
    "#     release_time[i] = his_times[nearest]\n",
    "# # get the index in exists for the month in which the point is released\n",
    "# monthi = np.array([int(str(np.datetime64(i,'M'))[-2:])-1 for i in release_time])\n",
    "\n",
    "# exists = np.fromfile(\"/scratch/project_2000789/muramarg/floats_WAOM/polynya_seasons.txt\",sep=\",\").reshape(12,391)   # yes or no does polynya exist\n",
    "# pts = np.fromfile(\"/scratch/project_2000789/muramarg/floats_WAOM/points.txt\",sep=\",\").reshape(391,2)               # points where released\n",
    "\n",
    "# # write if the point is released in a polynya\n",
    "# ispolynya = np.array([])"
   ]
  },
  {
   "cell_type": "code",
   "execution_count": 6,
   "id": "cb12b0b8",
   "metadata": {},
   "outputs": [],
   "source": [
    "# # first see which index of the point we are referring to in pts\n",
    "# for pt,month in zip(releasept,monthi):\n",
    "#     idx = (np.intersect1d(np.where(pts[:,0] == pt[0]),np.where(pts[:,1] == pt[1])))\n",
    "#     thismonth = exists[month]\n",
    "#     ispolynya = np.append(ispolynya,thismonth[idx])"
   ]
  },
  {
   "cell_type": "code",
   "execution_count": 7,
   "id": "750f0acc",
   "metadata": {},
   "outputs": [],
   "source": [
    "# polidx = np.where(ispolynya == 1)[0]\n",
    "# xgrid = xgrid[:,polidx]\n",
    "# ygrid = ygrid[:,polidx]"
   ]
  },
  {
   "cell_type": "code",
   "execution_count": 8,
   "id": "f1f80ba9",
   "metadata": {},
   "outputs": [],
   "source": [
    "# # select the initial columns of values (at all times)\n",
    "# all_salt = ds.variables['salt'].values[:,polidx]\n",
    "# all_temp = ds.variables['temp'].values[:,polidx]\n",
    "# all_depth = ds.variables['depth'].values[:,polidx]"
   ]
  },
  {
   "cell_type": "code",
   "execution_count": 9,
   "id": "ef8077cc",
   "metadata": {},
   "outputs": [],
   "source": [
    "# all_dens = ds.variables['rho'].values[:,polidx]"
   ]
  },
  {
   "cell_type": "code",
   "execution_count": 10,
   "id": "1d52e9e7",
   "metadata": {},
   "outputs": [],
   "source": [
    "# polidx.tofile(\"/scratch/project_2000789/muramarg/floats_WAOM/text_files/polidx.txt\",sep=\",\")"
   ]
  },
  {
   "cell_type": "code",
   "execution_count": 11,
   "id": "5c2bad06",
   "metadata": {},
   "outputs": [],
   "source": [
    "# idx_arr = idx_arr[:,polidx]"
   ]
  },
  {
   "cell_type": "code",
   "execution_count": 12,
   "id": "347e2153",
   "metadata": {},
   "outputs": [],
   "source": [
    "# # create the new grids of only single year values\n",
    "# salt = np.empty((35040,7195))\n",
    "# temp = np.empty((35040,7195))\n",
    "# depth = np.empty((35040,7195))\n",
    "# dens = np.empty((35040,7195))\n",
    "\n",
    "# # select in the ds.xgrid and ds.ygrid based on the values in the idx_arr\n",
    "# for i in range(len(polidx)):\n",
    "#     idxs = idx_arr[:,i]\n",
    "#     thissalt = all_salt[:,i][idxs[0]:idxs[1]]\n",
    "#     thistemp = all_temp[:,i][idxs[0]:idxs[1]]\n",
    "#     thisdept = all_depth[:,i][idxs[0]:idxs[1]]\n",
    "#     thisdens = all_dens[:,i][idxs[0]:idxs[1]]\n",
    "    \n",
    "#     # add these values to our new xgrid and ygrid for one year\n",
    "#     salt[:,i] = thissalt\n",
    "#     temp[:,i] = thistemp\n",
    "#     depth[:,i] = thisdept\n",
    "#     dens[:,i] = thisdens"
   ]
  },
  {
   "cell_type": "code",
   "execution_count": 13,
   "id": "899f12d4",
   "metadata": {},
   "outputs": [],
   "source": [
    "# print(salt[:, ~np.isnan(salt).any(axis=0)].shape)\n",
    "# print(salt.shape)"
   ]
  },
  {
   "cell_type": "code",
   "execution_count": 14,
   "id": "5f00e7af",
   "metadata": {},
   "outputs": [],
   "source": [
    "# nonnaidx = ~np.isnan(salt).any(axis=0) \n",
    "# non0 = ~np.all(salt == 0, axis = 0)\n",
    "# testi = np.logical_and(nonnaidx, non0)\n",
    "# testi"
   ]
  },
  {
   "cell_type": "code",
   "execution_count": 15,
   "id": "29abe8cf",
   "metadata": {},
   "outputs": [],
   "source": [
    "# xgrid = xgrid[:,testi]"
   ]
  },
  {
   "cell_type": "code",
   "execution_count": 16,
   "id": "46debc06",
   "metadata": {},
   "outputs": [],
   "source": [
    "# polidx = polidx[testi]\n",
    "# polidx.tofile(\"/scratch/project_2000789/muramarg/floats_WAOM/text_files/polidx.txt\",sep=\",\")"
   ]
  },
  {
   "cell_type": "code",
   "execution_count": 17,
   "id": "32972843",
   "metadata": {},
   "outputs": [],
   "source": [
    "# ygrid = ygrid[:,testi]\n",
    "# salt = salt[:,testi]\n",
    "# temp = temp[:,testi]\n",
    "# depth = depth[:,testi]\n",
    "# dens = dens[:,testi]"
   ]
  },
  {
   "cell_type": "code",
   "execution_count": 18,
   "id": "1c6a3595",
   "metadata": {},
   "outputs": [],
   "source": [
    "# # write our arrays to a file so we don't hopefully have to redo this\n",
    "# xgrid.tofile(\"/scratch/project_2000789/muramarg/floats_WAOM/text_files/xgrid.txt\",sep=\",\")\n",
    "# ygrid.tofile(\"/scratch/project_2000789/muramarg/floats_WAOM/text_files/ygrid.txt\",sep=\",\")\n",
    "# salt.tofile(\"/scratch/project_2000789/muramarg/floats_WAOM/text_files/salt.txt\",sep=\",\")\n",
    "# temp.tofile(\"/scratch/project_2000789/muramarg/floats_WAOM/text_files/temp.txt\",sep=\",\")\n",
    "# depth.tofile(\"/scratch/project_2000789/muramarg/floats_WAOM/text_files/depth.txt\",sep=\",\")\n",
    "# dens.tofile(\"/scratch/project_2000789/muramarg/floats_WAOM/text_files/dens.txt\",sep=\",\")"
   ]
  },
  {
   "cell_type": "markdown",
   "id": "788fa55c",
   "metadata": {},
   "source": [
    "### Or load from file"
   ]
  },
  {
   "cell_type": "code",
   "execution_count": 5,
   "id": "a45b0511",
   "metadata": {},
   "outputs": [],
   "source": [
    "# # SELECTING FROM ALL POINTS RELEASED IN POLYNYA - REGARDLESS OF DSW\n",
    "# xgrid = np.fromfile(\"/scratch/project_2000789/muramarg/floats_WAOM/text_files/xgrid.txt\",sep=\",\")\n",
    "# ygrid = np.fromfile(\"/scratch/project_2000789/muramarg/floats_WAOM/text_files/ygrid.txt\",sep=\",\")\n",
    "# salt = np.fromfile(\"/scratch/project_2000789/muramarg/floats_WAOM/text_files/salt.txt\",sep=\",\")\n",
    "# xgrid = xgrid.reshape((35040,6586))\n",
    "# ygrid = ygrid.reshape((35040,6586))\n",
    "# salt = salt.reshape((35040,6586))\n",
    "# print('test')\n",
    "\n",
    "# temp = np.fromfile(\"/scratch/project_2000789/muramarg/floats_WAOM/text_files/temp.txt\",sep=\",\")\n",
    "# depth = np.fromfile(\"/scratch/project_2000789/muramarg/floats_WAOM/text_files/depth.txt\",sep=\",\")\n",
    "# temp = temp.reshape((35040,6586))\n",
    "# depth = depth.reshape((35040,6586))\n",
    "# print('test2')\n",
    "\n"
   ]
  },
  {
   "cell_type": "code",
   "execution_count": 6,
   "id": "c8022e1e",
   "metadata": {},
   "outputs": [],
   "source": [
    "# dens = np.fromfile(\"/scratch/project_2000789/muramarg/floats_WAOM/text_files/dens.txt\",sep=\",\")\n",
    "# dens = dens.reshape((35040,-1))\n",
    "# dens"
   ]
  },
  {
   "cell_type": "code",
   "execution_count": 7,
   "id": "58cad8c8",
   "metadata": {},
   "outputs": [],
   "source": [
    "# # or load from the grouping of 4 files\n",
    "# # load with 4 groups\n",
    "# group1 = np.fromfile(\"/scratch/project_2000789/muramarg/floats_WAOM/GroupFiles/group1_dsw.txt\",sep=\",\")\n",
    "# group2 = np.fromfile(\"/scratch/project_2000789/muramarg/floats_WAOM/GroupFiles/group2_dsw.txt\",sep=\",\")\n",
    "# group4 = np.fromfile(\"/scratch/project_2000789/muramarg/floats_WAOM/GroupFiles/group3_dsw.txt\",sep=\",\")\n",
    "# group3 = np.fromfile(\"/scratch/project_2000789/muramarg/floats_WAOM/GroupFiles/group4_dsw.txt\",sep=\",\")\n",
    "\n",
    "# group1 = group1.tolist()\n",
    "# group1 = [int(x) for x in group1]\n",
    "# group2 = group2.tolist()\n",
    "# group2 = [int(x) for x in group2]\n",
    "# group3 = group3.tolist()\n",
    "# group3 = [int(x) for x in group3]\n",
    "# group4 = group4.tolist()\n",
    "# group4 = [int(x) for x in group4]\n",
    "\n",
    "# groups = np.array([group1,group2,group3,group4],dtype=object)"
   ]
  },
  {
   "cell_type": "code",
   "execution_count": 8,
   "id": "12214c0d",
   "metadata": {},
   "outputs": [],
   "source": [
    "# # grab representative TS values from these groups\n",
    "\n",
    "# for group in groups:\n",
    "#     tmpsalt = salt[:,group]\n",
    "#     tmptemp = temp[:,group]\n",
    "#     print(np.mean(tmpsalt[0]),np.mean(tmptemp[0]))             # first time step\n",
    "#     print(np.mean(tmpsalt[-1]),np.mean(tmptemp[-1]))             # last time step\n",
    "#     print()"
   ]
  },
  {
   "cell_type": "code",
   "execution_count": 9,
   "id": "15a80e8a",
   "metadata": {},
   "outputs": [
    {
     "data": {
      "text/plain": [
       "array([[2., 2., 2., ..., 4., 4., 4.],\n",
       "       [2., 2., 2., ..., 4., 4., 4.],\n",
       "       [2., 2., 2., ..., 4., 4., 4.],\n",
       "       ...,\n",
       "       [2., 3., 3., ..., 5., 4., 5.],\n",
       "       [2., 3., 3., ..., 5., 4., 5.],\n",
       "       [2., 3., 3., ..., 5., 4., 5.]])"
      ]
     },
     "execution_count": 9,
     "metadata": {},
     "output_type": "execute_result"
    }
   ],
   "source": [
    "# wmt = np.fromfile(\"/scratch/project_2000789/muramarg/floats_WAOM/text_files/mass_wmt.txt\",sep=\",\")\n",
    "# wmt = wmt.reshape((35040,-1))\n",
    "# wmt\n",
    "\n",
    "wmt = np.fromfile(\"/scratch/project_2000789/muramarg/floats_WAOM/text_files/wmt_3_26.txt\",sep=\",\")\n",
    "wmt = wmt.reshape((35040,-1))\n",
    "wmt"
   ]
  },
  {
   "cell_type": "code",
   "execution_count": 15,
   "id": "1a5fb3c3",
   "metadata": {},
   "outputs": [
    {
     "name": "stdout",
     "output_type": "stream",
     "text": [
      "(7599,)\n"
     ]
    }
   ],
   "source": [
    "pol_locs1 = np.fromfile(\"/scratch/project_2000789/muramarg/floats_WAOM/text_files/polynyaidx_3_26.txt\",sep=\",\")\n",
    "pol_locs1 = pol_locs1.astype(int)\n",
    "print(pol_locs1.shape)"
   ]
  },
  {
   "cell_type": "code",
   "execution_count": 17,
   "id": "0a208d1f",
   "metadata": {},
   "outputs": [
    {
     "name": "stdout",
     "output_type": "stream",
     "text": [
      "(5991,)\n"
     ]
    }
   ],
   "source": [
    "# we want to slice by\n",
    "pol_idx = np.fromfile(\"/scratch/project_2000789/muramarg/floats_WAOM/text_files/polynya_-120_1.3e-5.txt\",sep=\",\")\n",
    "pol_idx = pol_idx.astype(int)\n",
    "print(pol_idx.shape)"
   ]
  },
  {
   "cell_type": "code",
   "execution_count": 20,
   "id": "d1666c5a",
   "metadata": {},
   "outputs": [
    {
     "data": {
      "text/plain": [
       "array([   1,    2,    3, ..., 7596, 7597, 7598])"
      ]
     },
     "execution_count": 20,
     "metadata": {},
     "output_type": "execute_result"
    }
   ],
   "source": [
    "intersection_indices = np.intersect1d(pol_locs1, pol_idx, return_indices=True)[1]\n",
    "intersection_indices"
   ]
  },
  {
   "cell_type": "code",
   "execution_count": 21,
   "id": "fe05aa39",
   "metadata": {},
   "outputs": [],
   "source": [
    "wmt0 = wmt[0][intersection_indices]\n",
    "wmt_1 = wmt[-1][intersection_indices]"
   ]
  },
  {
   "cell_type": "code",
   "execution_count": 22,
   "id": "4864d326",
   "metadata": {},
   "outputs": [
    {
     "data": {
      "text/plain": [
       "5991"
      ]
     },
     "execution_count": 22,
     "metadata": {},
     "output_type": "execute_result"
    }
   ],
   "source": [
    "s = pol_idx.shape[0]\n",
    "s"
   ]
  },
  {
   "cell_type": "markdown",
   "id": "b7c49906",
   "metadata": {},
   "source": [
    "### Make the grids of salt temp and dens"
   ]
  },
  {
   "cell_type": "code",
   "execution_count": 23,
   "id": "aab07471",
   "metadata": {},
   "outputs": [
    {
     "ename": "NameError",
     "evalue": "name 'idx_arr' is not defined",
     "output_type": "error",
     "traceback": [
      "\u001b[0;31m---------------------------------------------------------------------------\u001b[0m",
      "\u001b[0;31mNameError\u001b[0m                                 Traceback (most recent call last)",
      "Cell \u001b[0;32mIn[23], line 12\u001b[0m\n\u001b[1;32m      9\u001b[0m dens \u001b[38;5;241m=\u001b[39m np\u001b[38;5;241m.\u001b[39mempty((\u001b[38;5;241m35040\u001b[39m,s))\n\u001b[1;32m     11\u001b[0m \u001b[38;5;66;03m# select in the ds.xgrid and ds.ygrid based on the values in the idx_arr\u001b[39;00m\n\u001b[0;32m---> 12\u001b[0m \u001b[38;5;28;01mfor\u001b[39;00m i \u001b[38;5;129;01min\u001b[39;00m \u001b[38;5;28mrange\u001b[39m(\u001b[43midx_arr\u001b[49m\u001b[38;5;241m.\u001b[39mshape[\u001b[38;5;241m1\u001b[39m]):\n\u001b[1;32m     13\u001b[0m     idxs \u001b[38;5;241m=\u001b[39m idx_arr[:,i]\n\u001b[1;32m     14\u001b[0m     thissalt \u001b[38;5;241m=\u001b[39m all_salt[:,i][idxs[\u001b[38;5;241m0\u001b[39m]:idxs[\u001b[38;5;241m1\u001b[39m]]\n",
      "\u001b[0;31mNameError\u001b[0m: name 'idx_arr' is not defined"
     ]
    }
   ],
   "source": [
    "# select the initial columns of values (at all times)\n",
    "all_salt = ds.variables['salt'].values[:,pol_idx]\n",
    "all_temp = ds.variables['temp'].values[:,pol_idx]\n",
    "all_dens = ds.variables['rho'].values[:,pol_idx]\n",
    "\n",
    "# create the new grids of only single year values\n",
    "salt = np.empty((35040,s))\n",
    "temp = np.empty((35040,s))\n",
    "dens = np.empty((35040,s))"
   ]
  },
  {
   "cell_type": "code",
   "execution_count": 26,
   "id": "5cb5fd2f",
   "metadata": {},
   "outputs": [],
   "source": [
    "startingidx = np.array([],dtype=int)\n",
    "\n",
    "# slice the floats by one year\n",
    "idx_arr = np.empty((2,20332),dtype=int)\n",
    "x = ds.variables[\"Xgrid\"].values\n",
    "for i in range(idx_arr.shape[1]):\n",
    "    # get the indices in that row in the xgrid\n",
    "    thisrow = x[:,i]\n",
    "    nonna = thisrow[~np.isnan(thisrow)]\n",
    "    startidx = len(thisrow)-len(nonna)\n",
    "    endidx = int(startidx + ((86400/900)*365))\n",
    "    idx_arr[0][i] = startidx\n",
    "    idx_arr[1][i] = endidx\n",
    "    \n",
    "    \n",
    "    # see if the start idx\n",
    "    startingidx = np.append(startingidx,startidx)\n",
    "    \n",
    "idx_arr = idx_arr[:,pol_idx]"
   ]
  },
  {
   "cell_type": "code",
   "execution_count": 27,
   "id": "1b8f03ed",
   "metadata": {},
   "outputs": [],
   "source": [
    "# select in the ds.xgrid and ds.ygrid based on the values in the idx_arr\n",
    "for i in range(idx_arr.shape[1]):\n",
    "    idxs = idx_arr[:,i]\n",
    "    thissalt = all_salt[:,i][idxs[0]:idxs[1]]\n",
    "    thistemp = all_temp[:,i][idxs[0]:idxs[1]]\n",
    "    thisdens = all_dens[:,i][idxs[0]:idxs[1]]\n",
    "    \n",
    "    # add these values to our new xgrid and ygrid for one year\n",
    "    salt[:,i] = thissalt\n",
    "    temp[:,i] = thistemp\n",
    "    dens[:,i] = thisdens"
   ]
  },
  {
   "cell_type": "markdown",
   "id": "ff187f72",
   "metadata": {},
   "source": [
    "### Select based on particles that are DSW at least once"
   ]
  },
  {
   "cell_type": "code",
   "execution_count": 28,
   "id": "8655429e",
   "metadata": {},
   "outputs": [],
   "source": [
    "# # dsw is where wmt == 3\n",
    "# dsw_idx = np.array([],dtype=int)\n",
    "# for i in range(len(wmt[0])):\n",
    "#     mycol = wmt[:,i]\n",
    "#     if len(np.where(mycol==3)[0])>0:\n",
    "#         dsw_idx = np.append(dsw_idx,i)"
   ]
  },
  {
   "cell_type": "code",
   "execution_count": 29,
   "id": "b0479ab6",
   "metadata": {},
   "outputs": [],
   "source": [
    "# dsw_idx"
   ]
  },
  {
   "cell_type": "code",
   "execution_count": 30,
   "id": "97586fd3",
   "metadata": {},
   "outputs": [],
   "source": [
    "# xgrid = xgrid[:,dsw_idx]"
   ]
  },
  {
   "cell_type": "code",
   "execution_count": 31,
   "id": "ee5da4ef",
   "metadata": {},
   "outputs": [],
   "source": [
    "# ygrid = ygrid[:,dsw_idx]\n",
    "# salt = salt[:,dsw_idx]\n",
    "# temp = temp[:,dsw_idx]\n",
    "# depth = depth[:,dsw_idx]"
   ]
  },
  {
   "cell_type": "code",
   "execution_count": 32,
   "id": "2c900791",
   "metadata": {},
   "outputs": [],
   "source": [
    "# wmt = wmt[:,dsw_idx]"
   ]
  },
  {
   "cell_type": "markdown",
   "id": "14ec2abc",
   "metadata": {},
   "source": [
    "### CT and SA"
   ]
  },
  {
   "cell_type": "code",
   "execution_count": 29,
   "id": "4c0dcb3d",
   "metadata": {},
   "outputs": [],
   "source": [
    "# convert the waom values to gsw values\n",
    "# convert depth to sea pressure\n",
    "long = 73.5089\n",
    "lat = -66.8245\n",
    "p = gsw.p_from_z(z=depth,lat=-66.8245)\n",
    "\n",
    "\n",
    "# convert the absolute salinity from practical salinity\n",
    "SA = gsw.SA_from_SP(salt,p,long,lat)    # absolute salinity from practical salinity\n",
    "\n",
    "# convert potential T to conservative T\n",
    "CT = gsw.CT_from_pt(SA,temp)   # conservative T from potential T\n",
    "\n",
    "# find the potential density from SA, CT, p\n",
    "rho_pot0 = gsw.rho(SA,CT,0) - 1000\n",
    "rho_pot = gsw.rho(SA,CT,p) - 1000"
   ]
  },
  {
   "cell_type": "markdown",
   "id": "c4e89a05",
   "metadata": {},
   "source": [
    "## Now create the grouping"
   ]
  },
  {
   "cell_type": "code",
   "execution_count": 33,
   "id": "b68f67db",
   "metadata": {},
   "outputs": [
    {
     "data": {
      "text/html": [
       "<div>\n",
       "<style scoped>\n",
       "    .dataframe tbody tr th:only-of-type {\n",
       "        vertical-align: middle;\n",
       "    }\n",
       "\n",
       "    .dataframe tbody tr th {\n",
       "        vertical-align: top;\n",
       "    }\n",
       "\n",
       "    .dataframe thead th {\n",
       "        text-align: right;\n",
       "    }\n",
       "</style>\n",
       "<table border=\"1\" class=\"dataframe\">\n",
       "  <thead>\n",
       "    <tr style=\"text-align: right;\">\n",
       "      <th></th>\n",
       "      <th>dT</th>\n",
       "      <th>dsat</th>\n",
       "      <th>drho</th>\n",
       "    </tr>\n",
       "  </thead>\n",
       "  <tbody>\n",
       "    <tr>\n",
       "      <th>0</th>\n",
       "      <td>0.580018</td>\n",
       "      <td>0.115856</td>\n",
       "      <td>0.512934</td>\n",
       "    </tr>\n",
       "    <tr>\n",
       "      <th>1</th>\n",
       "      <td>0.585166</td>\n",
       "      <td>0.140533</td>\n",
       "      <td>1.633165</td>\n",
       "    </tr>\n",
       "    <tr>\n",
       "      <th>2</th>\n",
       "      <td>0.619189</td>\n",
       "      <td>0.155727</td>\n",
       "      <td>3.408764</td>\n",
       "    </tr>\n",
       "    <tr>\n",
       "      <th>3</th>\n",
       "      <td>0.547269</td>\n",
       "      <td>0.082771</td>\n",
       "      <td>4.549841</td>\n",
       "    </tr>\n",
       "    <tr>\n",
       "      <th>4</th>\n",
       "      <td>0.500206</td>\n",
       "      <td>0.062862</td>\n",
       "      <td>-0.020542</td>\n",
       "    </tr>\n",
       "    <tr>\n",
       "      <th>...</th>\n",
       "      <td>...</td>\n",
       "      <td>...</td>\n",
       "      <td>...</td>\n",
       "    </tr>\n",
       "    <tr>\n",
       "      <th>5986</th>\n",
       "      <td>-0.753530</td>\n",
       "      <td>0.226044</td>\n",
       "      <td>1.403528</td>\n",
       "    </tr>\n",
       "    <tr>\n",
       "      <th>5987</th>\n",
       "      <td>-2.073267</td>\n",
       "      <td>0.974209</td>\n",
       "      <td>2.796295</td>\n",
       "    </tr>\n",
       "    <tr>\n",
       "      <th>5988</th>\n",
       "      <td>-3.805881</td>\n",
       "      <td>0.690002</td>\n",
       "      <td>1.369736</td>\n",
       "    </tr>\n",
       "    <tr>\n",
       "      <th>5989</th>\n",
       "      <td>0.380275</td>\n",
       "      <td>0.527744</td>\n",
       "      <td>0.402287</td>\n",
       "    </tr>\n",
       "    <tr>\n",
       "      <th>5990</th>\n",
       "      <td>-1.138976</td>\n",
       "      <td>0.969769</td>\n",
       "      <td>19.014360</td>\n",
       "    </tr>\n",
       "  </tbody>\n",
       "</table>\n",
       "<p>5991 rows × 3 columns</p>\n",
       "</div>"
      ],
      "text/plain": [
       "            dT      dsat       drho\n",
       "0     0.580018  0.115856   0.512934\n",
       "1     0.585166  0.140533   1.633165\n",
       "2     0.619189  0.155727   3.408764\n",
       "3     0.547269  0.082771   4.549841\n",
       "4     0.500206  0.062862  -0.020542\n",
       "...        ...       ...        ...\n",
       "5986 -0.753530  0.226044   1.403528\n",
       "5987 -2.073267  0.974209   2.796295\n",
       "5988 -3.805881  0.690002   1.369736\n",
       "5989  0.380275  0.527744   0.402287\n",
       "5990 -1.138976  0.969769  19.014360\n",
       "\n",
       "[5991 rows x 3 columns]"
      ]
     },
     "execution_count": 33,
     "metadata": {},
     "output_type": "execute_result"
    }
   ],
   "source": [
    "# convert the absolute salinity from practical salinity\n",
    "# dSA = SA[-1]-SA[0]\n",
    "dSA = salt[-1]-salt[0]\n",
    "\n",
    "# convert potential T to conservative T\n",
    "# dCT = CT[-1]-CT[0]\n",
    "dCT = temp[-1]-temp[0]\n",
    "\n",
    "# find the potential density from SA, CT, p\n",
    "drho_pot = dens[-1]-dens[0]\n",
    "#drho_pot = depth[-1]-dens[0]\n",
    "\n",
    "\n",
    "df = pd.DataFrame()\n",
    "df[\"dT\"] = dCT\n",
    "df[\"dsat\"] = dSA\n",
    "df[\"drho\"] = drho_pot\n",
    "df"
   ]
  },
  {
   "cell_type": "code",
   "execution_count": 34,
   "id": "7041e3ca",
   "metadata": {},
   "outputs": [
    {
     "name": "stdout",
     "output_type": "stream",
     "text": [
      "[4716 4432  528 5469]\n",
      "whats up\n",
      "Cluster 0:\n",
      "408\n",
      "Cluster 1:\n",
      "503\n",
      "Cluster 2:\n",
      "733\n",
      "Cluster 3:\n",
      "4347\n"
     ]
    },
    {
     "data": {
      "image/png": "[encoded data removed]",
      "text/plain": [
       "<Figure size 700x700 with 1 Axes>"
      ]
     },
     "metadata": {},
     "output_type": "display_data"
    }
   ],
   "source": [
    "# Plot the dendrogram for the Ward proximity measure\n",
    "index_names = list(df.index)\n",
    "z = linkage(df,method='ward')\n",
    "plt.figure(figsize = (7,7))\n",
    "plt.suptitle('Dendrogram for Ward Function')\n",
    "plt.xlabel('Particle')\n",
    "plt.ylabel('Height')\n",
    "dendrogramward = dendrogram(Z=z,labels=index_names,get_leaves=True)\n",
    "\n",
    "# set the number of clusters and get the names\n",
    "numclust = 4  # this was 6\n",
    "fl = fcluster(z,numclust,criterion='maxclust')\n",
    "# new dataframe\n",
    "df_clst = pd.DataFrame()\n",
    "df_clst['index']  = index_names\n",
    "df_clst['clust_label']  = fl\n",
    "# get the clusters from fcluster to choose centroids\n",
    "centroids_idx = np.array([],dtype=int)\n",
    "# for i in range(6):\n",
    "for i in range(4):\n",
    "    # print the values in each group\n",
    "    elements = df_clst[df_clst['clust_label']==i+1]['index'].tolist()  \n",
    "    size = len(elements)    \n",
    "    # get a random number from elements as a centroid\n",
    "    centroids_idx = np.append(centroids_idx, random.choice(elements))\n",
    "print(centroids_idx)\n",
    "\n",
    "# get the initial centroids\n",
    "index_names = list(df.index)\n",
    "c0 = df.iloc[index_names.index(centroids_idx[0])]\n",
    "c1 = df.iloc[index_names.index(centroids_idx[1])]\n",
    "c2 = df.iloc[index_names.index(centroids_idx[2])]\n",
    "c3 = df.iloc[index_names.index(centroids_idx[3])]\n",
    "# c4 = df.iloc[index_names.index(centroids_idx[4])]\n",
    "# c5 = df.iloc[index_names.index(centroids_idx[5])]\n",
    "\n",
    "centroids = np.array([c0,c1,c2,c3]) #,c4,c5])\n",
    "\n",
    "# Compute the k-means clusters and show the listing of the States in each cluster\n",
    "kmeans = KMeans(n_clusters=4,init=centroids,n_init=1,random_state=23).fit(df)\n",
    "centroids = kmeans.cluster_centers_\n",
    "assignment = kmeans.fit_predict(df,centroids)\n",
    "\n",
    "# get the cluster for each state\n",
    "zeroes=[x for x,y in enumerate(assignment) if y == 0]\n",
    "ones=[x for x,y in enumerate(assignment) if y == 1]\n",
    "twos=[x for x,y in enumerate(assignment) if y == 2]\n",
    "threes=[x for x,y in enumerate(assignment) if y == 3]\n",
    "# fours=[x for x,y in enumerate(assignment) if y == 4]\n",
    "# fives=[x for x,y in enumerate(assignment) if y == 5]\n",
    "\n",
    "clusters = [zeroes,ones,twos,threes]  #,fours,fives]\n",
    "states = [[],[],[],[]] #,[],[]]\n",
    "num = 0\n",
    "print(\"whats up\")\n",
    "for clust in clusters:\n",
    "    for idx in clust:\n",
    "        state = index_names[idx]\n",
    "        states[num].append(state)\n",
    "    print('Cluster '+str(num)+':')\n",
    "    print(len(states[num]))\n",
    "    num += 1"
   ]
  },
  {
   "cell_type": "code",
   "execution_count": 35,
   "id": "223f1c60",
   "metadata": {},
   "outputs": [
    {
     "data": {
      "text/plain": [
       "4"
      ]
     },
     "execution_count": 35,
     "metadata": {},
     "output_type": "execute_result"
    }
   ],
   "source": [
    "len(states)"
   ]
  },
  {
   "cell_type": "code",
   "execution_count": 36,
   "id": "a5d011a0",
   "metadata": {},
   "outputs": [],
   "source": [
    "# # get the indices for each of the groups\n",
    "group1 = states[0]\n",
    "group2 = states[1]\n",
    "group3 = states[2]\n",
    "group4 = states[3]\n",
    "# group5 = states[4]\n",
    "# group6 = states[5]\n",
    "groups = np.array([group1,group2,group3,group4],dtype=object)   #,group5,group6"
   ]
  },
  {
   "cell_type": "markdown",
   "id": "5c864bc1",
   "metadata": {},
   "source": [
    "### Check the quality of the grouping"
   ]
  },
  {
   "cell_type": "code",
   "execution_count": 37,
   "id": "af4cef5a",
   "metadata": {},
   "outputs": [],
   "source": [
    "# quality of the grouping\n",
    "# find the number of values in each group that match each of the water masses\n",
    "# we have the arrays temp, freez_temp, salt, enddens_allvals, depth\n",
    "lengths = np.array([])\n",
    "AABW_percents = np.array([])\n",
    "MCDW_percents = np.array([])\n",
    "ISW_percents = np.array([])\n",
    "DSW_percents = np.array([])\n",
    "AASW_percents = np.array([])\n",
    "WW_percents = np.array([])\n",
    "other_percents = np.array([])\n",
    "\n",
    "for group in groups:\n",
    "    # how many particles are in the group\n",
    "    lengths = np.append(lengths,len(group))\n",
    "    \n",
    "    # get the individual quantities of each group from mass and do value counts\n",
    "    thismass = wmt_1[group]  # or wmt_1\n",
    "    #thismass = wmt[0][group]\n",
    "    unique_elements, counts_elements = np.unique(thismass, return_counts=True)\n",
    "    \n",
    "    # see if any number is not in list and if not then add 0 to the end of the list\n",
    "    for i in range(7):\n",
    "        if not np.any(unique_elements == i):\n",
    "            # append this number and zero to unique,counts\n",
    "            unique_elements = np.append(unique_elements,i)\n",
    "            counts_elements = np.append(counts_elements,0)\n",
    "            \n",
    "    # 0 is aabw, 1 is mcdw, 2 is isw, 3 is dsw, 4 is aasw, 5 is other (ISW shallower than 100m), 6 is msw\n",
    "    \n",
    "    for i in range(len(unique_elements)):\n",
    "        if unique_elements[i] == 0:\n",
    "            AABW_percents =np.append(AABW_percents,counts_elements[i])\n",
    "        elif unique_elements[i] == 1:\n",
    "            MCDW_percents =np.append(MCDW_percents,counts_elements[i])\n",
    "        elif unique_elements[i] == 2:\n",
    "            ISW_percents =np.append(ISW_percents,counts_elements[i])\n",
    "        elif unique_elements[i] == 3:\n",
    "            DSW_percents =np.append(DSW_percents,counts_elements[i])\n",
    "        elif unique_elements[i] == 4:\n",
    "            AASW_percents =np.append(AASW_percents,counts_elements[i])\n",
    "        elif unique_elements[i] == 5:\n",
    "            WW_percents = np.append(WW_percents,counts_elements[i])\n",
    "        elif unique_elements[i] == 6:\n",
    "            other_percents = np.append(other_percents,counts_elements[i])"
   ]
  },
  {
   "cell_type": "code",
   "execution_count": 38,
   "id": "98105aac",
   "metadata": {},
   "outputs": [
    {
     "data": {
      "text/html": [
       "<div>\n",
       "<style scoped>\n",
       "    .dataframe tbody tr th:only-of-type {\n",
       "        vertical-align: middle;\n",
       "    }\n",
       "\n",
       "    .dataframe tbody tr th {\n",
       "        vertical-align: top;\n",
       "    }\n",
       "\n",
       "    .dataframe thead th {\n",
       "        text-align: right;\n",
       "    }\n",
       "</style>\n",
       "<table border=\"1\" class=\"dataframe\">\n",
       "  <thead>\n",
       "    <tr style=\"text-align: right;\">\n",
       "      <th></th>\n",
       "      <th># of particles</th>\n",
       "      <th>AABW</th>\n",
       "      <th>MCDW</th>\n",
       "      <th>ISW</th>\n",
       "      <th>DSW</th>\n",
       "      <th>AASW</th>\n",
       "      <th>WW</th>\n",
       "      <th>mSW</th>\n",
       "    </tr>\n",
       "  </thead>\n",
       "  <tbody>\n",
       "    <tr>\n",
       "      <th>0</th>\n",
       "      <td>408.0</td>\n",
       "      <td>0.0</td>\n",
       "      <td>25.0</td>\n",
       "      <td>0.0</td>\n",
       "      <td>115.0</td>\n",
       "      <td>54.0</td>\n",
       "      <td>187.0</td>\n",
       "      <td>0.0</td>\n",
       "    </tr>\n",
       "    <tr>\n",
       "      <th>1</th>\n",
       "      <td>503.0</td>\n",
       "      <td>0.0</td>\n",
       "      <td>43.0</td>\n",
       "      <td>0.0</td>\n",
       "      <td>152.0</td>\n",
       "      <td>54.0</td>\n",
       "      <td>212.0</td>\n",
       "      <td>0.0</td>\n",
       "    </tr>\n",
       "    <tr>\n",
       "      <th>2</th>\n",
       "      <td>733.0</td>\n",
       "      <td>0.0</td>\n",
       "      <td>46.0</td>\n",
       "      <td>3.0</td>\n",
       "      <td>235.0</td>\n",
       "      <td>101.0</td>\n",
       "      <td>289.0</td>\n",
       "      <td>0.0</td>\n",
       "    </tr>\n",
       "    <tr>\n",
       "      <th>3</th>\n",
       "      <td>4347.0</td>\n",
       "      <td>0.0</td>\n",
       "      <td>444.0</td>\n",
       "      <td>10.0</td>\n",
       "      <td>1039.0</td>\n",
       "      <td>854.0</td>\n",
       "      <td>1706.0</td>\n",
       "      <td>0.0</td>\n",
       "    </tr>\n",
       "  </tbody>\n",
       "</table>\n",
       "</div>"
      ],
      "text/plain": [
       "   # of particles  AABW   MCDW   ISW     DSW   AASW      WW  mSW\n",
       "0           408.0   0.0   25.0   0.0   115.0   54.0   187.0  0.0\n",
       "1           503.0   0.0   43.0   0.0   152.0   54.0   212.0  0.0\n",
       "2           733.0   0.0   46.0   3.0   235.0  101.0   289.0  0.0\n",
       "3          4347.0   0.0  444.0  10.0  1039.0  854.0  1706.0  0.0"
      ]
     },
     "execution_count": 38,
     "metadata": {},
     "output_type": "execute_result"
    }
   ],
   "source": [
    "wmt_df = pd.DataFrame() #,\"5\",\"6\"])\n",
    "wmt_df[\"# of particles\"] = lengths\n",
    "wmt_df[\"AABW\"] = AABW_percents\n",
    "wmt_df[\"MCDW\"] = MCDW_percents\n",
    "wmt_df[\"ISW\"] = ISW_percents\n",
    "wmt_df[\"DSW\"] = DSW_percents\n",
    "wmt_df[\"AASW\"] = AASW_percents\n",
    "wmt_df[\"WW\"] = WW_percents\n",
    "wmt_df[\"mSW\"] = other_percents\n",
    "\n",
    "# rename the indices\n",
    "# wmt_df = wmt_df.reindex([\"1\",\"2\",\"4\",\"2\"])\n",
    "\n",
    "wmt_df"
   ]
  },
  {
   "cell_type": "code",
   "execution_count": null,
   "id": "02108f2e",
   "metadata": {},
   "outputs": [],
   "source": []
  },
  {
   "cell_type": "code",
   "execution_count": 49,
   "id": "a8cd614e",
   "metadata": {},
   "outputs": [],
   "source": [
    "# remake the above dataframe with percentages\n",
    "df1 = pd.DataFrame()# index=[\"1\",\"2\",\"3\",\"4\"])\n",
    "df1[\"% of Total\"] = wmt_df[\"# of particles\"]/sum(wmt_df[\"# of particles\"])\n",
    "df1[\"AABW\"] = wmt_df[\"AABW\"]/wmt_df[\"# of particles\"]\n",
    "df1[\"mCDW\"] = wmt_df[\"MCDW\"]/wmt_df[\"# of particles\"]\n",
    "df1[\"ISW\"] = wmt_df[\"ISW\"]/wmt_df[\"# of particles\"]\n",
    "df1[\"DSW\"] = wmt_df[\"DSW\"]/wmt_df[\"# of particles\"]\n",
    "df1[\"AASW\"] = wmt_df[\"AASW\"]/wmt_df[\"# of particles\"]\n",
    "df1[\"WW\"] = wmt_df[\"WW\"]/wmt_df[\"# of particles\"]\n",
    "df1[\"mSW\"] = wmt_df[\"mSW\"]/wmt_df[\"# of particles\"]\n",
    "\n",
    "# df1 = df1.reindex([\"3\",\"1\",\"6\",\"2\",\"4\",\"5\"])"
   ]
  },
  {
   "cell_type": "code",
   "execution_count": 50,
   "id": "6edd256b",
   "metadata": {},
   "outputs": [
    {
     "data": {
      "text/html": [
       "<style type=\"text/css\">\n",
       "</style>\n",
       "<table id=\"T_410ee\">\n",
       "  <thead>\n",
       "    <tr>\n",
       "      <th class=\"blank level0\" >&nbsp;</th>\n",
       "      <th id=\"T_410ee_level0_col0\" class=\"col_heading level0 col0\" >% of Total</th>\n",
       "      <th id=\"T_410ee_level0_col1\" class=\"col_heading level0 col1\" >AABW</th>\n",
       "      <th id=\"T_410ee_level0_col2\" class=\"col_heading level0 col2\" >mCDW</th>\n",
       "      <th id=\"T_410ee_level0_col3\" class=\"col_heading level0 col3\" >ISW</th>\n",
       "      <th id=\"T_410ee_level0_col4\" class=\"col_heading level0 col4\" >DSW</th>\n",
       "      <th id=\"T_410ee_level0_col5\" class=\"col_heading level0 col5\" >AASW</th>\n",
       "      <th id=\"T_410ee_level0_col6\" class=\"col_heading level0 col6\" >WW</th>\n",
       "      <th id=\"T_410ee_level0_col7\" class=\"col_heading level0 col7\" >mSW</th>\n",
       "    </tr>\n",
       "  </thead>\n",
       "  <tbody>\n",
       "    <tr>\n",
       "      <th id=\"T_410ee_level0_row0\" class=\"row_heading level0 row0\" >1</th>\n",
       "      <td id=\"T_410ee_row0_col0\" class=\"data row0 col0\" >43.09%</td>\n",
       "      <td id=\"T_410ee_row0_col1\" class=\"data row0 col1\" >32.27%</td>\n",
       "      <td id=\"T_410ee_row0_col2\" class=\"data row0 col2\" >28.11%</td>\n",
       "      <td id=\"T_410ee_row0_col3\" class=\"data row0 col3\" >5.26%</td>\n",
       "      <td id=\"T_410ee_row0_col4\" class=\"data row0 col4\" >2.45%</td>\n",
       "      <td id=\"T_410ee_row0_col5\" class=\"data row0 col5\" >25.56%</td>\n",
       "      <td id=\"T_410ee_row0_col6\" class=\"data row0 col6\" >5.41%</td>\n",
       "      <td id=\"T_410ee_row0_col7\" class=\"data row0 col7\" >0.94%</td>\n",
       "    </tr>\n",
       "    <tr>\n",
       "      <th id=\"T_410ee_level0_row1\" class=\"row_heading level0 row1\" >2</th>\n",
       "      <td id=\"T_410ee_row1_col0\" class=\"data row1 col0\" >25.01%</td>\n",
       "      <td id=\"T_410ee_row1_col1\" class=\"data row1 col1\" >30.31%</td>\n",
       "      <td id=\"T_410ee_row1_col2\" class=\"data row1 col2\" >29.33%</td>\n",
       "      <td id=\"T_410ee_row1_col3\" class=\"data row1 col3\" >8.88%</td>\n",
       "      <td id=\"T_410ee_row1_col4\" class=\"data row1 col4\" >1.88%</td>\n",
       "      <td id=\"T_410ee_row1_col5\" class=\"data row1 col5\" >24.30%</td>\n",
       "      <td id=\"T_410ee_row1_col6\" class=\"data row1 col6\" >4.30%</td>\n",
       "      <td id=\"T_410ee_row1_col7\" class=\"data row1 col7\" >0.99%</td>\n",
       "    </tr>\n",
       "    <tr>\n",
       "      <th id=\"T_410ee_level0_row2\" class=\"row_heading level0 row2\" >3</th>\n",
       "      <td id=\"T_410ee_row2_col0\" class=\"data row2 col0\" >6.98%</td>\n",
       "      <td id=\"T_410ee_row2_col1\" class=\"data row2 col1\" >31.51%</td>\n",
       "      <td id=\"T_410ee_row2_col2\" class=\"data row2 col2\" >28.30%</td>\n",
       "      <td id=\"T_410ee_row2_col3\" class=\"data row2 col3\" >3.22%</td>\n",
       "      <td id=\"T_410ee_row2_col4\" class=\"data row2 col4\" >1.29%</td>\n",
       "      <td id=\"T_410ee_row2_col5\" class=\"data row2 col5\" >30.55%</td>\n",
       "      <td id=\"T_410ee_row2_col6\" class=\"data row2 col6\" >4.18%</td>\n",
       "      <td id=\"T_410ee_row2_col7\" class=\"data row2 col7\" >0.96%</td>\n",
       "    </tr>\n",
       "    <tr>\n",
       "      <th id=\"T_410ee_level0_row3\" class=\"row_heading level0 row3\" >4</th>\n",
       "      <td id=\"T_410ee_row3_col0\" class=\"data row3 col0\" >9.51%</td>\n",
       "      <td id=\"T_410ee_row3_col1\" class=\"data row3 col1\" >32.55%</td>\n",
       "      <td id=\"T_410ee_row3_col2\" class=\"data row3 col2\" >24.53%</td>\n",
       "      <td id=\"T_410ee_row3_col3\" class=\"data row3 col3\" >3.07%</td>\n",
       "      <td id=\"T_410ee_row3_col4\" class=\"data row3 col4\" >1.42%</td>\n",
       "      <td id=\"T_410ee_row3_col5\" class=\"data row3 col5\" >30.42%</td>\n",
       "      <td id=\"T_410ee_row3_col6\" class=\"data row3 col6\" >6.84%</td>\n",
       "      <td id=\"T_410ee_row3_col7\" class=\"data row3 col7\" >1.18%</td>\n",
       "    </tr>\n",
       "    <tr>\n",
       "      <th id=\"T_410ee_level0_row4\" class=\"row_heading level0 row4\" >5</th>\n",
       "      <td id=\"T_410ee_row4_col0\" class=\"data row4 col0\" >9.20%</td>\n",
       "      <td id=\"T_410ee_row4_col1\" class=\"data row4 col1\" >35.85%</td>\n",
       "      <td id=\"T_410ee_row4_col2\" class=\"data row4 col2\" >29.51%</td>\n",
       "      <td id=\"T_410ee_row4_col3\" class=\"data row4 col3\" >3.17%</td>\n",
       "      <td id=\"T_410ee_row4_col4\" class=\"data row4 col4\" >0.49%</td>\n",
       "      <td id=\"T_410ee_row4_col5\" class=\"data row4 col5\" >23.90%</td>\n",
       "      <td id=\"T_410ee_row4_col6\" class=\"data row4 col6\" >5.12%</td>\n",
       "      <td id=\"T_410ee_row4_col7\" class=\"data row4 col7\" >1.95%</td>\n",
       "    </tr>\n",
       "    <tr>\n",
       "      <th id=\"T_410ee_level0_row5\" class=\"row_heading level0 row5\" >6</th>\n",
       "      <td id=\"T_410ee_row5_col0\" class=\"data row5 col0\" >6.21%</td>\n",
       "      <td id=\"T_410ee_row5_col1\" class=\"data row5 col1\" >34.66%</td>\n",
       "      <td id=\"T_410ee_row5_col2\" class=\"data row5 col2\" >27.80%</td>\n",
       "      <td id=\"T_410ee_row5_col3\" class=\"data row5 col3\" >5.78%</td>\n",
       "      <td id=\"T_410ee_row5_col4\" class=\"data row5 col4\" >3.25%</td>\n",
       "      <td id=\"T_410ee_row5_col5\" class=\"data row5 col5\" >23.83%</td>\n",
       "      <td id=\"T_410ee_row5_col6\" class=\"data row5 col6\" >3.61%</td>\n",
       "      <td id=\"T_410ee_row5_col7\" class=\"data row5 col7\" >1.08%</td>\n",
       "    </tr>\n",
       "  </tbody>\n",
       "</table>\n"
      ],
      "text/plain": [
       "<pandas.io.formats.style.Styler at 0x7f9274344610>"
      ]
     },
     "execution_count": 50,
     "metadata": {},
     "output_type": "execute_result"
    }
   ],
   "source": [
    "df1.style.format({\n",
    "    '% of Total': '{:,.2%}'.format,\n",
    "    'AABW': '{:,.2%}'.format,\n",
    "    'mCDW': '{:,.2%}'.format,\n",
    "    'ISW' : '{:,.2%}'.format,\n",
    "    'DSW' : '{:,.2%}'.format,\n",
    "    'AASW': '{:,.2%}'.format,\n",
    "    'WW'  : '{:,.2%}'.format,\n",
    "    'mSW' : '{:,.2%}'.format\n",
    "})"
   ]
  },
  {
   "cell_type": "code",
   "execution_count": 82,
   "id": "121daede",
   "metadata": {},
   "outputs": [],
   "source": [
    "group3a = np.asarray(group1)\n",
    "group3a.tofile(\"/scratch/project_2000789/muramarg/floats_WAOM/GroupFiles/group1_dsw.txt\",sep=\",\")\n",
    "#group1 = np.fromfile(\"/scratch/project_2000789/muramarg/floats_WAOM/GroupFiles/group1_4grps.txt\",sep=\",\")\n",
    "\n",
    "group1a = np.asarray(group3)\n",
    "group1a.tofile(\"/scratch/project_2000789/muramarg/floats_WAOM/GroupFiles/group2_dsw.txt\",sep=\",\")\n",
    "#group2 = np.fromfile(\"/scratch/project_2000789/muramarg/floats_WAOM/GroupFiles/group2_4grps.txt\",sep=\",\")\n",
    "\n",
    "group6a = np.asarray(group4)\n",
    "group6a.tofile(\"/scratch/project_2000789/muramarg/floats_WAOM/GroupFiles/group3_dsw.txt\",sep=\",\")\n",
    "#group3 = np.fromfile(\"/scratch/project_2000789/muramarg/floats_WAOM/GroupFiles/group3_4grps.txt\",sep=\",\")\n",
    "\n",
    "group2a = np.asarray(group2)\n",
    "group2a.tofile(\"/scratch/project_2000789/muramarg/floats_WAOM/GroupFiles/group4_dsw.txt\",sep=\",\")\n",
    "#group4 = np.fromfile(\"/scratch/project_2000789/muramarg/floats_WAOM/GroupFiles/group4_4grps.txt\",sep=\",\")"
   ]
  },
  {
   "cell_type": "code",
   "execution_count": 66,
   "id": "c508fea5",
   "metadata": {},
   "outputs": [],
   "source": [
    "# group3a = np.asarray(group1)\n",
    "# group3a.tofile(\"/scratch/project_2000789/muramarg/floats_WAOM/GroupFiles/group1_4grps.txt\",sep=\",\")\n",
    "# #group0 = np.fromfile(\"/scratch/project_2000789/muramarg/floats_WAOM/GroupFiles/group0.txt\",sep=\",\")\n",
    "\n",
    "# group1a = np.asarray(group2)\n",
    "# group1a.tofile(\"/scratch/project_2000789/muramarg/floats_WAOM/GroupFiles/group2_4grps.txt\",sep=\",\")\n",
    "# #group1 = np.fromfile(\"/scratch/project_2000789/muramarg/floats_WAOM/GroupFiles/group1.txt\",sep=\",\")\n",
    "\n",
    "# group6a = np.asarray(group3)\n",
    "# group6a.tofile(\"/scratch/project_2000789/muramarg/floats_WAOM/GroupFiles/group3_4grps.txt\",sep=\",\")\n",
    "# #group2 = np.fromfile(\"/scratch/project_2000789/muramarg/floats_WAOM/GroupFiles/group2.txt\",sep=\",\")\n",
    "\n",
    "# group2a = np.asarray(group4)\n",
    "# group2a.tofile(\"/scratch/project_2000789/muramarg/floats_WAOM/GroupFiles/group4_4grps.txt\",sep=\",\")\n",
    "# #group3 = np.fromfile(\"/scratch/project_2000789/muramarg/floats_WAOM/GroupFiles/group3.txt\",sep=\",\")\n",
    "\n",
    "# group4a = np.asarray(group5)\n",
    "# group4a.tofile(\"/scratch/project_2000789/muramarg/floats_WAOM/GroupFiles/group5_4grps.txt\",sep=\",\")\n",
    "# #group4 = np.fromfile(\"/scratch/project_2000789/muramarg/floats_WAOM/GroupFiles/group4.txt\",sep=\",\")\n",
    "\n",
    "# group5a = np.asarray(group6)\n",
    "# group5a.tofile(\"/scratch/project_2000789/muramarg/floats_WAOM/GroupFiles/group6_4grps.txt\",sep=\",\")\n",
    "# #group5 = np.fromfile(\"/scratch/project_2000789/muramarg/floats_WAOM/GroupFiles/group5.txt\",sep=\",\")"
   ]
  },
  {
   "cell_type": "code",
   "execution_count": 68,
   "id": "c790f866",
   "metadata": {},
   "outputs": [],
   "source": [
    "# group0 = group0.tolist()\n",
    "# group0 = [int(x) for x in group0]\n",
    "\n",
    "group1 = group1.tolist()\n",
    "group1 = [int(x) for x in group1]\n",
    "\n",
    "group2 = group2.tolist()\n",
    "group2 = [int(x) for x in group2]\n",
    "\n",
    "group3 = group3.tolist()\n",
    "group3 = [int(x) for x in group3]\n",
    "\n",
    "group4 = group4.tolist()\n",
    "group4 = [int(x) for x in group4]\n",
    "\n",
    "# group5 = group5.tolist()\n",
    "# group5 = [int(x) for x in group5]"
   ]
  },
  {
   "cell_type": "code",
   "execution_count": 69,
   "id": "d7a1e52f",
   "metadata": {},
   "outputs": [],
   "source": [
    "groups = np.array([group1,group2,group3,group4],dtype=object)   #,group5,group6"
   ]
  },
  {
   "cell_type": "code",
   "execution_count": null,
   "id": "010cf427",
   "metadata": {},
   "outputs": [],
   "source": []
  }
 ],
 "metadata": {
  "kernelspec": {
   "display_name": "Python 3 (ipykernel)",
   "language": "python",
   "name": "python3"
  },
  "language_info": {
   "codemirror_mode": {
    "name": "ipython",
    "version": 3
   },
   "file_extension": ".py",
   "mimetype": "text/x-python",
   "name": "python",
   "nbconvert_exporter": "python",
   "pygments_lexer": "ipython3",
   "version": "3.10.9"
  }
 },
 "nbformat": 4,
 "nbformat_minor": 5
}
