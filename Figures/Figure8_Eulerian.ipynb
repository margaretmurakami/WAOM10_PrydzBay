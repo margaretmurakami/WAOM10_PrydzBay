{
 "cells": [
  {
   "cell_type": "markdown",
   "id": "56a34924",
   "metadata": {},
   "source": [
    "### Import the packages"
   ]
  },
  {
   "cell_type": "code",
   "execution_count": 1,
   "id": "0bf23a2b",
   "metadata": {},
   "outputs": [],
   "source": [
    "# Do not modify import block, all necessary imports are included\n",
    "# Our regular libraries\n",
    "import pandas as pd\n",
    "import numpy as np\n",
    "import matplotlib.pyplot as plt\n",
    "import matplotlib.cm as cm\n",
    "import xarray as xr\n",
    "%matplotlib inline\n",
    "\n",
    "# for plotting\n",
    "import cartopy.crs as ccrs\n",
    "import cartopy.feature as cfeature\n",
    "\n",
    "# this is for density plotting\n",
    "from matplotlib import colorbar, colors\n",
    "import matplotlib as mpl\n",
    "from matplotlib.colors import ListedColormap, LinearSegmentedColormap\n",
    "\n",
    "# for the polygon intersections\n",
    "import shapely.geometry as sg\n",
    "import descartes\n",
    "import matplotlib.ticker as mticker\n",
    "from cartopy.mpl.gridliner import LONGITUDE_FORMATTER, LATITUDE_FORMATTER\n",
    "import matplotlib.ticker as mticker\n",
    "import matplotlib.path as mpath\n",
    "import cartopy.feature as cfeature\n",
    "#from xgcm import Grid\n",
    "\n",
    "# for plotting\n",
    "import time\n",
    "import warnings\n",
    "warnings.filterwarnings('ignore')\n",
    "\n",
    "# for gsw\n",
    "import sys\n",
    "sys.path.append('/scratch/project_2000789/muramarg/miniconda3/lib/python3.10/site-packages/')\n",
    "import gsw\n",
    "\n",
    "from scipy.interpolate import interpn\n",
    "from shapely.ops import unary_union\n",
    "from shapely import Point"
   ]
  },
  {
   "cell_type": "markdown",
   "id": "89affc83",
   "metadata": {},
   "source": [
    "### Load data and WMT"
   ]
  },
  {
   "cell_type": "code",
   "execution_count": 2,
   "id": "4f807aff",
   "metadata": {},
   "outputs": [],
   "source": [
    "# load the libraries\n",
    "ds = xr.open_dataset('/scratch/project_2000789/muramarg/waom_total/output_WAOM_check/ocean_flt.nc')\n",
    "ds1 = xr.open_dataset('/scratch/project_2000789/muramarg/waom_total/output_WAOM_check/ocean_avg_0001.nc')\n",
    "dg = xr.open_dataset('/scratch/project_2000789/muramarg/copied_files/waom10extend_grd.nc')"
   ]
  },
  {
   "cell_type": "code",
   "execution_count": 3,
   "id": "066dd2d2",
   "metadata": {},
   "outputs": [],
   "source": [
    "# load the sliced data from polynyas\n",
    "# write these to files? does this save time\n",
    "xgrid = np.fromfile(\"/scratch/project_2000789/muramarg/floats_WAOM/text_files/xgrid_dsw.txt\",sep=\",\")\n",
    "ygrid = np.fromfile(\"/scratch/project_2000789/muramarg/floats_WAOM/text_files/ygrid_dsw.txt\",sep=\",\")\n",
    "xgrid = xgrid.reshape((35040,-1))\n",
    "ygrid = ygrid.reshape((35040,-1))\n",
    "temp = np.fromfile(\"/scratch/project_2000789/muramarg/floats_WAOM/text_files/temp_dsw.txt\",sep=\",\")\n",
    "salt = np.fromfile(\"/scratch/project_2000789/muramarg/floats_WAOM/text_files/salt_dsw.txt\",sep=\",\")\n",
    "depth = np.fromfile(\"/scratch/project_2000789/muramarg/floats_WAOM/text_files/depth_dsw.txt\",sep=\",\")\n",
    "temp = temp.reshape((35040,-1))\n",
    "depth = depth.reshape((35040,-1))\n",
    "salt = salt.reshape((35040,-1))"
   ]
  },
  {
   "cell_type": "code",
   "execution_count": 4,
   "id": "b32f217e",
   "metadata": {},
   "outputs": [],
   "source": [
    "wmt = np.fromfile(\"/scratch/project_2000789/muramarg/floats_WAOM/text_files/wmt_dsw.txt\",sep=\",\")\n",
    "wmt = wmt.reshape((35040,-1))"
   ]
  },
  {
   "cell_type": "code",
   "execution_count": 5,
   "id": "5ed3aaa3",
   "metadata": {},
   "outputs": [],
   "source": [
    "# or load from the grouping of 4 files\n",
    "# load with 4 groups\n",
    "group1 = np.fromfile(\"/scratch/project_2000789/muramarg/floats_WAOM/GroupFiles/group1_dsw.txt\",sep=\",\")\n",
    "group2 = np.fromfile(\"/scratch/project_2000789/muramarg/floats_WAOM/GroupFiles/group2_dsw.txt\",sep=\",\")\n",
    "group4 = np.fromfile(\"/scratch/project_2000789/muramarg/floats_WAOM/GroupFiles/group3_dsw.txt\",sep=\",\")\n",
    "group3 = np.fromfile(\"/scratch/project_2000789/muramarg/floats_WAOM/GroupFiles/group4_dsw.txt\",sep=\",\")\n",
    "\n",
    "group1 = group1.tolist()\n",
    "group1 = [int(x) for x in group1]\n",
    "group2 = group2.tolist()\n",
    "group2 = [int(x) for x in group2]\n",
    "group3 = group3.tolist()\n",
    "group3 = [int(x) for x in group3]\n",
    "group4 = group4.tolist()\n",
    "group4 = [int(x) for x in group4]\n",
    "\n",
    "groups = np.array([group1,group2,group3,group4],dtype=object)"
   ]
  },
  {
   "cell_type": "code",
   "execution_count": 6,
   "id": "1c15ef47",
   "metadata": {},
   "outputs": [
    {
     "data": {
      "text/plain": [
       "(4458,)"
      ]
     },
     "execution_count": 6,
     "metadata": {},
     "output_type": "execute_result"
    }
   ],
   "source": [
    "pollocs2 = np.fromfile(\"/scratch/project_2000789/muramarg/floats_WAOM/text_files/pollocs_dsw.txt\",sep=\",\",dtype=int)\n",
    "pollocs2.shape"
   ]
  },
  {
   "cell_type": "markdown",
   "id": "6711b970",
   "metadata": {},
   "source": [
    "### Create the lat and long values"
   ]
  },
  {
   "cell_type": "code",
   "execution_count": 7,
   "id": "863f8f30",
   "metadata": {},
   "outputs": [],
   "source": [
    "lat_values = dg.lat_rho.values\n",
    "long_values = dg.lon_rho.values\n",
    "\n",
    "# residence time\n",
    "xbins = np.r_[0:630:1]\n",
    "ybins = np.r_[0:560:1]\n",
    "\n",
    "# index of bins the particles ending in\n",
    "x_new = np.digitize(xgrid,xbins)\n",
    "y_new = np.digitize(ygrid,ybins)\n",
    "\n",
    "stack = np.stack((ygrid, xgrid), axis=-1)\n",
    "lat2 = interpn((ybins,xbins),lat_values,stack)\n",
    "long2 = interpn((ybins,xbins),long_values,stack)"
   ]
  },
  {
   "cell_type": "markdown",
   "id": "0fd589b4",
   "metadata": {},
   "source": [
    "### Classic view as done in Thesis"
   ]
  },
  {
   "cell_type": "code",
   "execution_count": 8,
   "id": "4554440e",
   "metadata": {},
   "outputs": [],
   "source": [
    "# THESE ARE IN GRID POINTS\n",
    "proj = ccrs.SouthPolarStereo(central_longitude=0.0, true_scale_latitude=None, globe=None)\n",
    "bathym = cfeature.NaturalEarthFeature(name='bathymetry_J_1000', scale='10m', category='physical')\n",
    "cmap = ListedColormap([\"tab:blue\", \"tab:orange\", \"tab:green\", \"tab:red\",\"tab:purple\",\"tab:brown\",\"tab:olive\"])\n",
    "labels=[\"AABW\",\"mCDW\",\"ISW\",\"DSW\",\"AASW\",\"WW\",\"mSW\"]"
   ]
  },
  {
   "cell_type": "code",
   "execution_count": null,
   "id": "3fa2d99f",
   "metadata": {},
   "outputs": [
    {
     "name": "stdout",
     "output_type": "stream",
     "text": [
      "0\n",
      "1\n",
      "2\n",
      "3\n"
     ]
    }
   ],
   "source": [
    "# fig, axes = plt.subplots(figsize=(15,15),nrows=3, ncols=2,sharex=True,sharey=True,subplot_kw={'projection': proj})\n",
    "fig, axes = plt.subplots(figsize=(15,15),nrows=2, ncols=2,sharex=True,sharey=True,subplot_kw={'projection': proj})\n",
    "\n",
    "fig.tight_layout(pad=5.0)\n",
    "plt.rcParams.update({'font.size': 12})\n",
    "i = 0\n",
    "\n",
    "for ax,group in zip(axes.flat,groups):\n",
    "    print(i)\n",
    "\n",
    "    ax.title.set_text(\"Group \" + str(i+1) + \": \"+ str(len(groups[i])))\n",
    "    pcm = ax.scatter(long2[:,groups[i]],lat2[:,groups[i]],marker='.',s=0.1,zorder=5,\n",
    "                c=wmt[:,groups[i]],cmap=cmap,transform=ccrs.PlateCarree(),rasterized=True)\n",
    "    \n",
    "    cm_d = ax.pcolormesh(dg.lon_rho,dg.lat_rho,ds1.h.isel(),transform=ccrs.PlateCarree(),\n",
    "                         cmap=plt.get_cmap('gray',20),alpha=0.6)\n",
    "    ax.coastlines(zorder=5,facecolor='white',edgecolor='white')\n",
    "    \n",
    "    # add ice shelf and continental shelf\n",
    "    ax.add_feature(bathym, facecolor='none', edgecolor='black', linestyle='solid', linewidth=1,alpha=0.6,zorder=6)\n",
    "    ax.contour(dg.lon_rho[1:,300:], dg.lat_rho[1:,300:],ds1.zice[1:,300:],levels=[-0.2],\n",
    "            zorder=6,linestyles='dashed', transform=ccrs.PlateCarree(), cmap=plt.get_cmap('gray_r'),alpha=0.6)\n",
    "    \n",
    "    # add the cross section lines\n",
    "    lon_ini = [50,68]\n",
    "    lon_end = [50,68]\n",
    "    lat_ini = [-70,-70]\n",
    "    lat_end = [-64,-64]\n",
    "\n",
    "    ii = 0\n",
    "    ax.plot([lon_ini[ii], lon_end[ii]], [lat_ini[ii], lat_end[ii]],alpha=1,zorder=6, transform=ccrs.PlateCarree(), linewidth=3, linestyle='dashed',color=\"#ff00ee\")\n",
    "    ii = 1\n",
    "    ax.plot([lon_ini[ii], lon_end[ii]], [lat_ini[ii], lat_end[ii]],alpha=1,zorder=6, transform=ccrs.PlateCarree(), linewidth=3, linestyle='dashed',color=\"#ff00ee\")\n",
    "\n",
    "    \n",
    "    # add the colorbar and lat/long ticks\n",
    "    #cbar = plt.colorbar(label=\"Bathymetry (m)\",extend='max',location='left')\n",
    "    gl = ax.gridlines(zorder=3,draw_labels=True, dms=False, x_inline=False, y_inline=False)\n",
    "    gl.rotate_labels = False\n",
    "    gl.ylabels_right = False\n",
    "    gl.xlines = True\n",
    "    gl.xlocator = mticker.FixedLocator(np.arange(-180,180,10))\n",
    "    gl.ylocator = mticker.FixedLocator(np.arange(-50,-90,-5))\n",
    "    gl.xformatter = LONGITUDE_FORMATTER\n",
    "    gl.yformatter = LATITUDE_FORMATTER\n",
    "    ax.add_feature(cfeature.LAND,edgecolor='black', facecolor='white',zorder=7)\n",
    "    plt.xlim([1250000,3000000])\n",
    "    plt.ylim([200000,2350000])\n",
    "    \n",
    "    # try to add labels\n",
    "    ax.text(x=52, y=-71.2,s=\"Enderby Land\",transform=ccrs.PlateCarree(),rotation=-51.5,fontsize=10,alpha=0.7,zorder=10)\n",
    "    ax.text(x=64.65, y=-71.65,s=\"Cape Darnley\",transform=ccrs.PlateCarree(),rotation=0,fontsize=10,alpha=0.7,zorder=10)\n",
    "    \n",
    "    i += 1\n",
    "    \n",
    "fig.subplots_adjust(bottom=0.1, top=0.9, left=0.09, right=0.7,wspace=0.11, hspace=0)\n",
    "cb_ax = fig.add_axes([0.83, 0.1, 0.02, 0.8])\n",
    "cbar = fig.colorbar(pcm,label=\"Water Mass\",cax = cb_ax,ticks=[0,1,2,3,4,5,6])\n",
    "cbar.ax.set_yticklabels(labels)\n",
    "cbar.ax.tick_params(labelsize=12, length=0)\n",
    "\n",
    "bounds = np.array([0,1,2,3,4,5])\n",
    "# cbar.set_ticks([0.5,1.3,2.175,3.05,3.925,4.8,5.675])\n",
    "cbar.set_ticks([0.5,1.25,2.125,3,3.875,4.75,5.625])\n",
    "tick_texts = cbar.ax.set_yticklabels(labels)\n",
    "tick_texts[0].set_verticalalignment('top')\n",
    "tick_texts[-1].set_verticalalignment('bottom')\n",
    "\n",
    "cb_ax2 = fig.add_axes([0.75,0.1,0.02,0.8])\n",
    "cbar2 = fig.colorbar(cm_d,label=\"Depth (m)\",cax = cb_ax2)\n",
    "\n",
    "fig_path ='/scratch/project_2000789/muramarg/reviews1/'\n",
    "\n",
    "plt.savefig(fig_path + \"figure8.png\", dpi=300)"
   ]
  },
  {
   "cell_type": "code",
   "execution_count": null,
   "id": "2d226f34",
   "metadata": {},
   "outputs": [],
   "source": []
  }
 ],
 "metadata": {
  "kernelspec": {
   "display_name": "Python 3 (ipykernel)",
   "language": "python",
   "name": "python3"
  },
  "language_info": {
   "codemirror_mode": {
    "name": "ipython",
    "version": 3
   },
   "file_extension": ".py",
   "mimetype": "text/x-python",
   "name": "python",
   "nbconvert_exporter": "python",
   "pygments_lexer": "ipython3",
   "version": "3.10.9"
  }
 },
 "nbformat": 4,
 "nbformat_minor": 5
}
