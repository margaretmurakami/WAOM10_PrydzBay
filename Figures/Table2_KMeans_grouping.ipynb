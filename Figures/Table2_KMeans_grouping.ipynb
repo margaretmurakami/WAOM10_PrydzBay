{
 "cells": [
  {
   "cell_type": "markdown",
   "id": "4df95f28",
   "metadata": {},
   "source": [
    "## Finalizing thesis diagrams\n",
    "\n",
    "This notebook will finalize diagrams for the thesis to insure that all use the same grouping of elements. This will slice the dataframe by one year and add the diagrams."
   ]
  },
  {
   "cell_type": "code",
   "execution_count": 1,
   "id": "57ffcdda",
   "metadata": {},
   "outputs": [],
   "source": [
    "# Do not modify import block, all necessary imports are included\n",
    "# Our regular libraries\n",
    "import pandas as pd\n",
    "import numpy as np\n",
    "import matplotlib.pyplot as plt\n",
    "import matplotlib.cm as cm\n",
    "import xarray as xr\n",
    "%matplotlib inline\n",
    "\n",
    "# This is for our hierarchical clustering\n",
    "from scipy.cluster.hierarchy import dendrogram, linkage, cophenet\n",
    "from scipy.spatial.distance import pdist\n",
    "from scipy.spatial.distance import squareform\n",
    "from scipy.cluster.hierarchy import fcluster\n",
    "\n",
    "# For our k-means clustering\n",
    "from sklearn.cluster import KMeans\n",
    "from sklearn.metrics import silhouette_samples\n",
    "from sklearn import datasets\n",
    "import random\n",
    "\n",
    "# for plotting\n",
    "import cartopy.crs as ccrs\n",
    "import cartopy.feature as cfeature\n",
    "\n",
    "# this is for density plotting\n",
    "from matplotlib import colorbar, colors\n",
    "import matplotlib as mpl\n",
    "from matplotlib.colors import ListedColormap, LinearSegmentedColormap\n",
    "# import gsw\n",
    "import math\n",
    "\n",
    "# for the polygon intersections\n",
    "import shapely.geometry as sg\n",
    "import descartes\n",
    "\n",
    "# for plotting\n",
    "import time\n",
    "import warnings\n",
    "warnings.filterwarnings('ignore')\n",
    "\n",
    "#import \"/scratch/project_2000789/muramarg/miniconda3/lib/python3.10/site-packages/gsw\"\n",
    "import sys\n",
    " \n",
    "# appending a path\n",
    "sys.path.append('/scratch/project_2000789/muramarg/miniconda3/lib/python3.10/site-packages/')\n",
    " \n",
    "# importing required module\n",
    "import gsw\n",
    "\n",
    "from scipy.interpolate import interpn"
   ]
  },
  {
   "cell_type": "markdown",
   "id": "e55de36f",
   "metadata": {},
   "source": [
    "### Slice the points by one year, load the release points, load the dataframe for KMeans"
   ]
  },
  {
   "cell_type": "code",
   "execution_count": 2,
   "id": "e7ee34ee",
   "metadata": {},
   "outputs": [],
   "source": [
    "# load the libraries\n",
    "ds = xr.open_dataset('/scratch/project_2000789/muramarg/waom_total/output_WAOM_check/ocean_flt.nc')"
   ]
  },
  {
   "cell_type": "code",
   "execution_count": 3,
   "id": "7b0e58ba",
   "metadata": {},
   "outputs": [],
   "source": [
    "# startingidx = np.array([],dtype=int)\n",
    "\n",
    "# # slice the floats by one year\n",
    "# idx_arr = np.empty((2,20332),dtype=int)\n",
    "# x = ds.variables[\"Xgrid\"].values\n",
    "# for i in range(idx_arr.shape[1]):\n",
    "#     # get the indices in that row in the xgrid\n",
    "#     thisrow = x[:,i]\n",
    "#     nonna = thisrow[~np.isnan(thisrow)]\n",
    "#     startidx = len(thisrow)-len(nonna)\n",
    "#     endidx = int(startidx + ((86400/900)*365))\n",
    "#     idx_arr[0][i] = startidx\n",
    "#     idx_arr[1][i] = endidx\n",
    "    \n",
    "    \n",
    "#     # see if the start idx\n",
    "#     startingidx = np.append(startingidx,startidx)"
   ]
  },
  {
   "cell_type": "code",
   "execution_count": 4,
   "id": "45fb66f6",
   "metadata": {},
   "outputs": [],
   "source": [
    "# # slice the floats by one year\n",
    "# idx_arr = np.empty((2,20332),dtype=int)\n",
    "# x = ds.variables[\"Xgrid\"].values\n",
    "# for i in range(idx_arr.shape[1]):\n",
    "#     # get the indices in that row in the xgrid\n",
    "#     thisrow = x[:,i]\n",
    "#     nonna = thisrow[~np.isnan(thisrow)]\n",
    "#     startidx = len(thisrow)-len(nonna)\n",
    "#     endidx = int(startidx + ((86400/900)*365))\n",
    "#     idx_arr[0][i] = startidx\n",
    "#     idx_arr[1][i] = endidx\n",
    "# all_xgrid = ds.variables['Xgrid'].values\n",
    "# all_ygrid = ds.variables['Ygrid'].values\n",
    "# xgrid = np.empty((35040,20332))\n",
    "# ygrid = np.empty((35040,20332))\n",
    "\n",
    "# for i in range(idx_arr.shape[1]):\n",
    "#     idxs = idx_arr[:,i]\n",
    "#     thisx = all_xgrid[:,i][idxs[0]:idxs[1]]\n",
    "#     thisy = all_ygrid[:,i][idxs[0]:idxs[1]]\n",
    "    \n",
    "#     # add these values to our new xgrid and ygrid for one year\n",
    "#     xgrid[:,i] = thisx\n",
    "#     ygrid[:,i] = thisy"
   ]
  },
  {
   "cell_type": "code",
   "execution_count": 5,
   "id": "68c28b37",
   "metadata": {},
   "outputs": [],
   "source": [
    "# # get the recorded times in the history file\n",
    "# ds2 = xr.open_dataset('/scratch/project_2000789/muramarg/waom_total/output_WAOM_check/ocean_his_0001.nc')\n",
    "# his_times = ds2.variables[\"ocean_time\"].values[:12]\n",
    "# # make the array whether it is in a polynya\n",
    "# releasept = np.stack((xgrid[0],ygrid[0])).T                     # points where floats are released\n",
    "# release_time = ds.coords[\"ocean_time\"].values[startingidx]      # corresponding dates of release\n",
    "# # find nearest time value in his_times of release_time\n",
    "# for i in range(len(release_time)):\n",
    "#     value = release_time[i]\n",
    "#     nearest = np.searchsorted(his_times, value, side=\"right\")\n",
    "#     release_time[i] = his_times[nearest]\n",
    "# # get the index in exists for the month in which the point is released\n",
    "# monthi = np.array([int(str(np.datetime64(i,'M'))[-2:])-1 for i in release_time])\n",
    "\n",
    "# exists = np.fromfile(\"/scratch/project_2000789/muramarg/floats_WAOM/polynya_seasons.txt\",sep=\",\").reshape(12,391)   # yes or no does polynya exist\n",
    "# pts = np.fromfile(\"/scratch/project_2000789/muramarg/floats_WAOM/points.txt\",sep=\",\").reshape(391,2)               # points where released\n",
    "\n",
    "# # write if the point is released in a polynya\n",
    "# ispolynya = np.array([])"
   ]
  },
  {
   "cell_type": "code",
   "execution_count": 6,
   "id": "cb12b0b8",
   "metadata": {},
   "outputs": [],
   "source": [
    "# # first see which index of the point we are referring to in pts\n",
    "# for pt,month in zip(releasept,monthi):\n",
    "#     idx = (np.intersect1d(np.where(pts[:,0] == pt[0]),np.where(pts[:,1] == pt[1])))\n",
    "#     thismonth = exists[month]\n",
    "#     ispolynya = np.append(ispolynya,thismonth[idx])"
   ]
  },
  {
   "cell_type": "code",
   "execution_count": 7,
   "id": "750f0acc",
   "metadata": {},
   "outputs": [],
   "source": [
    "# polidx = np.where(ispolynya == 1)[0]\n",
    "# xgrid = xgrid[:,polidx]\n",
    "# ygrid = ygrid[:,polidx]"
   ]
  },
  {
   "cell_type": "code",
   "execution_count": 8,
   "id": "f1f80ba9",
   "metadata": {},
   "outputs": [],
   "source": [
    "# # select the initial columns of values (at all times)\n",
    "# all_salt = ds.variables['salt'].values[:,polidx]\n",
    "# all_temp = ds.variables['temp'].values[:,polidx]\n",
    "# all_depth = ds.variables['depth'].values[:,polidx]"
   ]
  },
  {
   "cell_type": "code",
   "execution_count": 9,
   "id": "ef8077cc",
   "metadata": {},
   "outputs": [],
   "source": [
    "# all_dens = ds.variables['rho'].values[:,polidx]"
   ]
  },
  {
   "cell_type": "code",
   "execution_count": 10,
   "id": "1d52e9e7",
   "metadata": {},
   "outputs": [],
   "source": [
    "# polidx.tofile(\"/scratch/project_2000789/muramarg/floats_WAOM/text_files/polidx.txt\",sep=\",\")"
   ]
  },
  {
   "cell_type": "code",
   "execution_count": 11,
   "id": "5c2bad06",
   "metadata": {},
   "outputs": [],
   "source": [
    "# idx_arr = idx_arr[:,polidx]"
   ]
  },
  {
   "cell_type": "code",
   "execution_count": 12,
   "id": "347e2153",
   "metadata": {},
   "outputs": [],
   "source": [
    "# # create the new grids of only single year values\n",
    "# salt = np.empty((35040,7195))\n",
    "# temp = np.empty((35040,7195))\n",
    "# depth = np.empty((35040,7195))\n",
    "# dens = np.empty((35040,7195))\n",
    "\n",
    "# # select in the ds.xgrid and ds.ygrid based on the values in the idx_arr\n",
    "# for i in range(len(polidx)):\n",
    "#     idxs = idx_arr[:,i]\n",
    "#     thissalt = all_salt[:,i][idxs[0]:idxs[1]]\n",
    "#     thistemp = all_temp[:,i][idxs[0]:idxs[1]]\n",
    "#     thisdept = all_depth[:,i][idxs[0]:idxs[1]]\n",
    "#     thisdens = all_dens[:,i][idxs[0]:idxs[1]]\n",
    "    \n",
    "#     # add these values to our new xgrid and ygrid for one year\n",
    "#     salt[:,i] = thissalt\n",
    "#     temp[:,i] = thistemp\n",
    "#     depth[:,i] = thisdept\n",
    "#     dens[:,i] = thisdens"
   ]
  },
  {
   "cell_type": "code",
   "execution_count": 13,
   "id": "899f12d4",
   "metadata": {},
   "outputs": [],
   "source": [
    "# print(salt[:, ~np.isnan(salt).any(axis=0)].shape)\n",
    "# print(salt.shape)"
   ]
  },
  {
   "cell_type": "code",
   "execution_count": 14,
   "id": "5f00e7af",
   "metadata": {},
   "outputs": [],
   "source": [
    "# nonnaidx = ~np.isnan(salt).any(axis=0) \n",
    "# non0 = ~np.all(salt == 0, axis = 0)\n",
    "# testi = np.logical_and(nonnaidx, non0)\n",
    "# testi"
   ]
  },
  {
   "cell_type": "code",
   "execution_count": 15,
   "id": "29abe8cf",
   "metadata": {},
   "outputs": [],
   "source": [
    "# xgrid = xgrid[:,testi]"
   ]
  },
  {
   "cell_type": "code",
   "execution_count": 16,
   "id": "46debc06",
   "metadata": {},
   "outputs": [],
   "source": [
    "# polidx = polidx[testi]\n",
    "# polidx.tofile(\"/scratch/project_2000789/muramarg/floats_WAOM/text_files/polidx.txt\",sep=\",\")"
   ]
  },
  {
   "cell_type": "code",
   "execution_count": 17,
   "id": "32972843",
   "metadata": {},
   "outputs": [],
   "source": [
    "# ygrid = ygrid[:,testi]\n",
    "# salt = salt[:,testi]\n",
    "# temp = temp[:,testi]\n",
    "# depth = depth[:,testi]\n",
    "# dens = dens[:,testi]"
   ]
  },
  {
   "cell_type": "code",
   "execution_count": 18,
   "id": "1c6a3595",
   "metadata": {},
   "outputs": [],
   "source": [
    "# # write our arrays to a file so we don't hopefully have to redo this\n",
    "# xgrid.tofile(\"/scratch/project_2000789/muramarg/floats_WAOM/text_files/xgrid.txt\",sep=\",\")\n",
    "# ygrid.tofile(\"/scratch/project_2000789/muramarg/floats_WAOM/text_files/ygrid.txt\",sep=\",\")\n",
    "# salt.tofile(\"/scratch/project_2000789/muramarg/floats_WAOM/text_files/salt.txt\",sep=\",\")\n",
    "# temp.tofile(\"/scratch/project_2000789/muramarg/floats_WAOM/text_files/temp.txt\",sep=\",\")\n",
    "# depth.tofile(\"/scratch/project_2000789/muramarg/floats_WAOM/text_files/depth.txt\",sep=\",\")\n",
    "# dens.tofile(\"/scratch/project_2000789/muramarg/floats_WAOM/text_files/dens.txt\",sep=\",\")"
   ]
  },
  {
   "cell_type": "markdown",
   "id": "788fa55c",
   "metadata": {},
   "source": [
    "### Or load from file"
   ]
  },
  {
   "cell_type": "code",
   "execution_count": 3,
   "id": "a45b0511",
   "metadata": {},
   "outputs": [],
   "source": [
    "# SELECTING FROM ALL POINTS RELEASED IN POLYNYA - REGARDLESS OF DSW\n",
    "xgrid = np.fromfile(\"/scratch/project_2000789/muramarg/floats_WAOM/text_files/xgrid.txt\",sep=\",\")\n",
    "ygrid = np.fromfile(\"/scratch/project_2000789/muramarg/floats_WAOM/text_files/ygrid.txt\",sep=\",\")\n",
    "salt = np.fromfile(\"/scratch/project_2000789/muramarg/floats_WAOM/text_files/salt.txt\",sep=\",\")\n",
    "xgrid = xgrid.reshape((35040,6586))\n",
    "ygrid = ygrid.reshape((35040,6586))\n",
    "salt = salt.reshape((35040,6586))\n",
    "print('test')\n",
    "\n",
    "temp = np.fromfile(\"/scratch/project_2000789/muramarg/floats_WAOM/text_files/temp.txt\",sep=\",\")\n",
    "depth = np.fromfile(\"/scratch/project_2000789/muramarg/floats_WAOM/text_files/depth.txt\",sep=\",\")\n",
    "temp = temp.reshape((35040,6586))\n",
    "depth = depth.reshape((35040,6586))\n",
    "print('test2')\n",
    "\n",
    "wmt = np.fromfile(\"/scratch/project_2000789/muramarg/floats_WAOM/text_files/mass_wmt.txt\",sep=\",\")\n",
    "wmt = wmt.reshape((35040,-1))\n",
    "wmt"
   ]
  },
  {
   "cell_type": "code",
   "execution_count": 3,
   "id": "c8022e1e",
   "metadata": {},
   "outputs": [
    {
     "data": {
      "text/plain": [
       "array([[2., 2., 3., ..., 1., 1., 1.],\n",
       "       [2., 2., 3., ..., 1., 1., 1.],\n",
       "       [2., 2., 3., ..., 1., 1., 1.],\n",
       "       ...,\n",
       "       [2., 1., 2., ..., 4., 1., 3.],\n",
       "       [2., 1., 2., ..., 4., 1., 3.],\n",
       "       [2., 1., 2., ..., 4., 1., 3.]])"
      ]
     },
     "execution_count": 3,
     "metadata": {},
     "output_type": "execute_result"
    }
   ],
   "source": [
    "wmt = np.fromfile(\"/scratch/project_2000789/muramarg/floats_WAOM/text_files/wmt_dsw.txt\",sep=\",\")\n",
    "wmt = wmt.reshape((35040,-1))\n",
    "wmt"
   ]
  },
  {
   "cell_type": "code",
   "execution_count": 4,
   "id": "58cad8c8",
   "metadata": {},
   "outputs": [],
   "source": [
    "# or load from the grouping of 4 files\n",
    "# load with 4 groups\n",
    "group1 = np.fromfile(\"/scratch/project_2000789/muramarg/floats_WAOM/GroupFiles/group1_dsw.txt\",sep=\",\")\n",
    "group2 = np.fromfile(\"/scratch/project_2000789/muramarg/floats_WAOM/GroupFiles/group2_dsw.txt\",sep=\",\")\n",
    "group4 = np.fromfile(\"/scratch/project_2000789/muramarg/floats_WAOM/GroupFiles/group3_dsw.txt\",sep=\",\")\n",
    "group3 = np.fromfile(\"/scratch/project_2000789/muramarg/floats_WAOM/GroupFiles/group4_dsw.txt\",sep=\",\")\n",
    "\n",
    "group1 = group1.tolist()\n",
    "group1 = [int(x) for x in group1]\n",
    "group2 = group2.tolist()\n",
    "group2 = [int(x) for x in group2]\n",
    "group3 = group3.tolist()\n",
    "group3 = [int(x) for x in group3]\n",
    "group4 = group4.tolist()\n",
    "group4 = [int(x) for x in group4]\n",
    "\n",
    "groups = np.array([group1,group2,group3,group4],dtype=object)"
   ]
  },
  {
   "cell_type": "markdown",
   "id": "ff187f72",
   "metadata": {},
   "source": [
    "### Select based on particles that are DSW at least once"
   ]
  },
  {
   "cell_type": "code",
   "execution_count": 36,
   "id": "8655429e",
   "metadata": {},
   "outputs": [],
   "source": [
    "# dsw is where wmt == 3\n",
    "dsw_idx = np.array([],dtype=int)\n",
    "for i in range(len(wmt[0])):\n",
    "    mycol = wmt[:,i]\n",
    "    if len(np.where(mycol==3)[0])>0:\n",
    "        dsw_idx = np.append(dsw_idx,i)"
   ]
  },
  {
   "cell_type": "code",
   "execution_count": 35,
   "id": "b0479ab6",
   "metadata": {},
   "outputs": [
    {
     "data": {
      "text/plain": [
       "array([  28,   33,   34, ..., 6578, 6579, 6582])"
      ]
     },
     "execution_count": 35,
     "metadata": {},
     "output_type": "execute_result"
    }
   ],
   "source": [
    "dsw_idx"
   ]
  },
  {
   "cell_type": "code",
   "execution_count": 37,
   "id": "97586fd3",
   "metadata": {},
   "outputs": [],
   "source": [
    "xgrid = xgrid[:,dsw_idx]"
   ]
  },
  {
   "cell_type": "code",
   "execution_count": 42,
   "id": "ee5da4ef",
   "metadata": {},
   "outputs": [
    {
     "ename": "NameError",
     "evalue": "name 'dens' is not defined",
     "output_type": "error",
     "traceback": [
      "\u001b[0;31m---------------------------------------------------------------------------\u001b[0m",
      "\u001b[0;31mNameError\u001b[0m                                 Traceback (most recent call last)",
      "Cell \u001b[0;32mIn[42], line 5\u001b[0m\n\u001b[1;32m      3\u001b[0m temp \u001b[38;5;241m=\u001b[39m temp[:,dsw_idx]\n\u001b[1;32m      4\u001b[0m depth \u001b[38;5;241m=\u001b[39m depth[:,dsw_idx]\n\u001b[0;32m----> 5\u001b[0m dens \u001b[38;5;241m=\u001b[39m \u001b[43mdens\u001b[49m[:,dsw_idx]\n\u001b[1;32m      6\u001b[0m wmt \u001b[38;5;241m=\u001b[39m wmt[:,dsw_idx]\n",
      "\u001b[0;31mNameError\u001b[0m: name 'dens' is not defined"
     ]
    }
   ],
   "source": [
    "ygrid = ygrid[:,dsw_idx]\n",
    "salt = salt[:,dsw_idx]\n",
    "temp = temp[:,dsw_idx]\n",
    "depth = depth[:,dsw_idx]"
   ]
  },
  {
   "cell_type": "code",
   "execution_count": 44,
   "id": "2c900791",
   "metadata": {},
   "outputs": [],
   "source": [
    "wmt = wmt[:,dsw_idx]"
   ]
  },
  {
   "cell_type": "code",
   "execution_count": 47,
   "id": "493abdd3",
   "metadata": {},
   "outputs": [],
   "source": [
    "# # select xgrid, ygrid, \n",
    "# # write our arrays to a file so we don't hopefully have to redo this\n",
    "# xgrid.tofile(\"/scratch/project_2000789/muramarg/floats_WAOM/text_files/xgrid_dsw.txt\",sep=\",\")\n",
    "# ygrid.tofile(\"/scratch/project_2000789/muramarg/floats_WAOM/text_files/ygrid_dsw.txt\",sep=\",\")\n",
    "# salt.tofile(\"/scratch/project_2000789/muramarg/floats_WAOM/text_files/salt_dsw.txt\",sep=\",\")\n",
    "# temp.tofile(\"/scratch/project_2000789/muramarg/floats_WAOM/text_files/temp_dsw.txt\",sep=\",\")\n",
    "# depth.tofile(\"/scratch/project_2000789/muramarg/floats_WAOM/text_files/depth_dsw.txt\",sep=\",\")\n",
    "# wmt.tofile(\"/scratch/project_2000789/muramarg/floats_WAOM/text_files/wmt_dsw.txt\",sep=\",\")"
   ]
  },
  {
   "cell_type": "code",
   "execution_count": 52,
   "id": "5354fcd1",
   "metadata": {},
   "outputs": [],
   "source": [
    "# also select from the seasons\n",
    "pollocs2 = np.fromfile(\"/scratch/project_2000789/muramarg/floats_WAOM/text_files/pollocs_forseasons.txt\",sep=\",\",dtype=int)\n",
    "pollocs_dsw = pollocs2[dsw_idx]\n",
    "pollocs_dsw.tofile(\"/scratch/project_2000789/muramarg/floats_WAOM/text_files/pollocs_dsw.txt\",sep=\",\")"
   ]
  },
  {
   "cell_type": "markdown",
   "id": "14ec2abc",
   "metadata": {},
   "source": [
    "### CT and SA"
   ]
  },
  {
   "cell_type": "code",
   "execution_count": 56,
   "id": "4c0dcb3d",
   "metadata": {},
   "outputs": [],
   "source": [
    "# convert the waom values to gsw values\n",
    "# convert depth to sea pressure\n",
    "long = 73.5089\n",
    "lat = -66.8245\n",
    "p = gsw.p_from_z(z=depth,lat=-66.8245)\n",
    "\n",
    "\n",
    "# convert the absolute salinity from practical salinity\n",
    "SA = gsw.SA_from_SP(salt,p,long,lat)    # absolute salinity from practical salinity\n",
    "\n",
    "# convert potential T to conservative T\n",
    "CT = gsw.CT_from_pt(SA,temp)   # conservative T from potential T\n",
    "\n",
    "# find the potential density from SA, CT, p\n",
    "rho_pot0 = gsw.rho(SA,CT,0) - 1000\n",
    "rho_pot = gsw.rho(SA,CT,p) - 1000"
   ]
  },
  {
   "cell_type": "markdown",
   "id": "c4e89a05",
   "metadata": {},
   "source": [
    "## Now create the grouping"
   ]
  },
  {
   "cell_type": "code",
   "execution_count": 57,
   "id": "b68f67db",
   "metadata": {},
   "outputs": [
    {
     "data": {
      "text/html": [
       "<div>\n",
       "<style scoped>\n",
       "    .dataframe tbody tr th:only-of-type {\n",
       "        vertical-align: middle;\n",
       "    }\n",
       "\n",
       "    .dataframe tbody tr th {\n",
       "        vertical-align: top;\n",
       "    }\n",
       "\n",
       "    .dataframe thead th {\n",
       "        text-align: right;\n",
       "    }\n",
       "</style>\n",
       "<table border=\"1\" class=\"dataframe\">\n",
       "  <thead>\n",
       "    <tr style=\"text-align: right;\">\n",
       "      <th></th>\n",
       "      <th>dT</th>\n",
       "      <th>dsat</th>\n",
       "      <th>drho</th>\n",
       "    </tr>\n",
       "  </thead>\n",
       "  <tbody>\n",
       "    <tr>\n",
       "      <th>0</th>\n",
       "      <td>-0.312525</td>\n",
       "      <td>-0.069016</td>\n",
       "      <td>3.353382</td>\n",
       "    </tr>\n",
       "    <tr>\n",
       "      <th>1</th>\n",
       "      <td>0.325712</td>\n",
       "      <td>-0.067696</td>\n",
       "      <td>0.744485</td>\n",
       "    </tr>\n",
       "    <tr>\n",
       "      <th>2</th>\n",
       "      <td>-0.154509</td>\n",
       "      <td>-0.076694</td>\n",
       "      <td>2.843766</td>\n",
       "    </tr>\n",
       "    <tr>\n",
       "      <th>3</th>\n",
       "      <td>0.275223</td>\n",
       "      <td>-0.072670</td>\n",
       "      <td>0.178093</td>\n",
       "    </tr>\n",
       "    <tr>\n",
       "      <th>4</th>\n",
       "      <td>-0.104418</td>\n",
       "      <td>-0.055901</td>\n",
       "      <td>2.704478</td>\n",
       "    </tr>\n",
       "    <tr>\n",
       "      <th>...</th>\n",
       "      <td>...</td>\n",
       "      <td>...</td>\n",
       "      <td>...</td>\n",
       "    </tr>\n",
       "    <tr>\n",
       "      <th>4453</th>\n",
       "      <td>0.378131</td>\n",
       "      <td>0.051968</td>\n",
       "      <td>5.843694</td>\n",
       "    </tr>\n",
       "    <tr>\n",
       "      <th>4454</th>\n",
       "      <td>0.302897</td>\n",
       "      <td>0.047600</td>\n",
       "      <td>8.290456</td>\n",
       "    </tr>\n",
       "    <tr>\n",
       "      <th>4455</th>\n",
       "      <td>-0.273189</td>\n",
       "      <td>-0.183598</td>\n",
       "      <td>2.004601</td>\n",
       "    </tr>\n",
       "    <tr>\n",
       "      <th>4456</th>\n",
       "      <td>-1.102360</td>\n",
       "      <td>-0.040257</td>\n",
       "      <td>1.199043</td>\n",
       "    </tr>\n",
       "    <tr>\n",
       "      <th>4457</th>\n",
       "      <td>-1.049942</td>\n",
       "      <td>0.006630</td>\n",
       "      <td>2.399629</td>\n",
       "    </tr>\n",
       "  </tbody>\n",
       "</table>\n",
       "<p>4458 rows × 3 columns</p>\n",
       "</div>"
      ],
      "text/plain": [
       "            dT      dsat      drho\n",
       "0    -0.312525 -0.069016  3.353382\n",
       "1     0.325712 -0.067696  0.744485\n",
       "2    -0.154509 -0.076694  2.843766\n",
       "3     0.275223 -0.072670  0.178093\n",
       "4    -0.104418 -0.055901  2.704478\n",
       "...        ...       ...       ...\n",
       "4453  0.378131  0.051968  5.843694\n",
       "4454  0.302897  0.047600  8.290456\n",
       "4455 -0.273189 -0.183598  2.004601\n",
       "4456 -1.102360 -0.040257  1.199043\n",
       "4457 -1.049942  0.006630  2.399629\n",
       "\n",
       "[4458 rows x 3 columns]"
      ]
     },
     "execution_count": 57,
     "metadata": {},
     "output_type": "execute_result"
    }
   ],
   "source": [
    "# convert the absolute salinity from practical salinity\n",
    "# dSA = SA[-1]-SA[0]\n",
    "dSA = salt[-1]-salt[0]\n",
    "\n",
    "# convert potential T to conservative T\n",
    "# dCT = CT[-1]-CT[0]\n",
    "dCT = temp[-1]-temp[0]\n",
    "\n",
    "# find the potential density from SA, CT, p\n",
    "drho_pot = rho_pot[-1]-rho_pot[0]\n",
    "\n",
    "df = pd.DataFrame()\n",
    "df[\"dT\"] = dCT\n",
    "df[\"dsat\"] = dSA\n",
    "df[\"drho\"] = drho_pot\n",
    "df"
   ]
  },
  {
   "cell_type": "code",
   "execution_count": 58,
   "id": "7041e3ca",
   "metadata": {},
   "outputs": [
    {
     "name": "stdout",
     "output_type": "stream",
     "text": [
      "[3739 4306 1094 1311]\n",
      "whats up\n",
      "Cluster 0:\n",
      "2721\n",
      "Cluster 1:\n",
      "418\n",
      "Cluster 2:\n",
      "742\n",
      "Cluster 3:\n",
      "577\n"
     ]
    },
    {
     "data": {
      "image/png": "[encoded data removed]",
      "text/plain": [
       "<Figure size 700x700 with 1 Axes>"
      ]
     },
     "metadata": {},
     "output_type": "display_data"
    }
   ],
   "source": [
    "# Plot the dendrogram for the Ward proximity measure\n",
    "index_names = list(df.index)\n",
    "z = linkage(df,method='ward')\n",
    "plt.figure(figsize = (7,7))\n",
    "plt.suptitle('Dendrogram for Ward Function')\n",
    "plt.xlabel('Particle')\n",
    "plt.ylabel('Height')\n",
    "dendrogramward = dendrogram(Z=z,labels=index_names,get_leaves=True)\n",
    "\n",
    "# set the number of clusters and get the names\n",
    "numclust = 4  # this was 6\n",
    "fl = fcluster(z,numclust,criterion='maxclust')\n",
    "# new dataframe\n",
    "df_clst = pd.DataFrame()\n",
    "df_clst['index']  = index_names\n",
    "df_clst['clust_label']  = fl\n",
    "# get the clusters from fcluster to choose centroids\n",
    "centroids_idx = np.array([],dtype=int)\n",
    "# for i in range(6):\n",
    "for i in range(4):\n",
    "    # print the values in each group\n",
    "    elements = df_clst[df_clst['clust_label']==i+1]['index'].tolist()  \n",
    "    size = len(elements)    \n",
    "    # get a random number from elements as a centroid\n",
    "    centroids_idx = np.append(centroids_idx, random.choice(elements))\n",
    "print(centroids_idx)\n",
    "\n",
    "# get the initial centroids\n",
    "index_names = list(df.index)\n",
    "c0 = df.iloc[index_names.index(centroids_idx[0])]\n",
    "c1 = df.iloc[index_names.index(centroids_idx[1])]\n",
    "c2 = df.iloc[index_names.index(centroids_idx[2])]\n",
    "c3 = df.iloc[index_names.index(centroids_idx[3])]\n",
    "# c4 = df.iloc[index_names.index(centroids_idx[4])]\n",
    "# c5 = df.iloc[index_names.index(centroids_idx[5])]\n",
    "\n",
    "centroids = np.array([c0,c1,c2,c3]) #,c4,c5])\n",
    "\n",
    "# Compute the k-means clusters and show the listing of the States in each cluster\n",
    "kmeans = KMeans(n_clusters=4,init=centroids,n_init=1,random_state=23).fit(df)\n",
    "centroids = kmeans.cluster_centers_\n",
    "assignment = kmeans.fit_predict(df,centroids)\n",
    "\n",
    "# get the cluster for each state\n",
    "zeroes=[x for x,y in enumerate(assignment) if y == 0]\n",
    "ones=[x for x,y in enumerate(assignment) if y == 1]\n",
    "twos=[x for x,y in enumerate(assignment) if y == 2]\n",
    "threes=[x for x,y in enumerate(assignment) if y == 3]\n",
    "# fours=[x for x,y in enumerate(assignment) if y == 4]\n",
    "# fives=[x for x,y in enumerate(assignment) if y == 5]\n",
    "\n",
    "clusters = [zeroes,ones,twos,threes]  #,fours,fives]\n",
    "states = [[],[],[],[]] #,[],[]]\n",
    "num = 0\n",
    "print(\"whats up\")\n",
    "for clust in clusters:\n",
    "    for idx in clust:\n",
    "        state = index_names[idx]\n",
    "        states[num].append(state)\n",
    "    print('Cluster '+str(num)+':')\n",
    "    print(len(states[num]))\n",
    "    num += 1"
   ]
  },
  {
   "cell_type": "code",
   "execution_count": 59,
   "id": "a5d011a0",
   "metadata": {},
   "outputs": [],
   "source": [
    "# # get the indices for each of the groups\n",
    "group1 = states[0]\n",
    "group2 = states[1]\n",
    "group3 = states[2]\n",
    "group4 = states[3]\n",
    "# group5 = states[4]\n",
    "# group6 = states[5]\n",
    "groups = np.array([group1,group2,group3,group4],dtype=object)   #,group5,group6"
   ]
  },
  {
   "cell_type": "code",
   "execution_count": 5,
   "id": "8e564f9a",
   "metadata": {},
   "outputs": [],
   "source": [
    "groups = np.array([group1,group2,group3,group4],dtype=object)   #,group5,group6"
   ]
  },
  {
   "cell_type": "markdown",
   "id": "5c864bc1",
   "metadata": {},
   "source": [
    "### Check the quality of the grouping"
   ]
  },
  {
   "cell_type": "code",
   "execution_count": 17,
   "id": "af4cef5a",
   "metadata": {},
   "outputs": [],
   "source": [
    "# quality of the grouping\n",
    "# find the number of values in each group that match each of the water masses\n",
    "# we have the arrays temp, freez_temp, salt, enddens_allvals, depth\n",
    "lengths = np.array([])\n",
    "AABW_percents = np.array([])\n",
    "MCDW_percents = np.array([])\n",
    "ISW_percents = np.array([])\n",
    "DSW_percents = np.array([])\n",
    "AASW_percents = np.array([])\n",
    "WW_percents = np.array([])\n",
    "other_percents = np.array([])\n",
    "\n",
    "for group in groups:\n",
    "    # how many particles are in the group\n",
    "    lengths = np.append(lengths,len(group))\n",
    "    \n",
    "    # get the individual quantities of each group from mass and do value counts\n",
    "    thismass = wmt[0][group]\n",
    "    #thismass = wmt[0][group]\n",
    "    unique_elements, counts_elements = np.unique(thismass, return_counts=True)\n",
    "    \n",
    "    # see if any number is not in list and if not then add 0 to the end of the list\n",
    "    for i in range(7):\n",
    "        if not np.any(unique_elements == i):\n",
    "            # append this number and zero to unique,counts\n",
    "            unique_elements = np.append(unique_elements,i)\n",
    "            counts_elements = np.append(counts_elements,0)\n",
    "            \n",
    "    # 0 is aabw, 1 is mcdw, 2 is isw, 3 is dsw, 4 is aasw, 5 is other (ISW shallower than 100m), 6 is msw\n",
    "    \n",
    "    for i in range(len(unique_elements)):\n",
    "        if unique_elements[i] == 0:\n",
    "            AABW_percents =np.append(AABW_percents,counts_elements[i])\n",
    "        elif unique_elements[i] == 1:\n",
    "            MCDW_percents =np.append(MCDW_percents,counts_elements[i])\n",
    "        elif unique_elements[i] == 2:\n",
    "            ISW_percents =np.append(ISW_percents,counts_elements[i])\n",
    "        elif unique_elements[i] == 3:\n",
    "            DSW_percents =np.append(DSW_percents,counts_elements[i])\n",
    "        elif unique_elements[i] == 4:\n",
    "            AASW_percents =np.append(AASW_percents,counts_elements[i])\n",
    "        elif unique_elements[i] == 5:\n",
    "            WW_percents = np.append(WW_percents,counts_elements[i])\n",
    "        elif unique_elements[i] == 6:\n",
    "            other_percents = np.append(other_percents,counts_elements[i])"
   ]
  },
  {
   "cell_type": "code",
   "execution_count": 18,
   "id": "98105aac",
   "metadata": {},
   "outputs": [
    {
     "data": {
      "text/html": [
       "<div>\n",
       "<style scoped>\n",
       "    .dataframe tbody tr th:only-of-type {\n",
       "        vertical-align: middle;\n",
       "    }\n",
       "\n",
       "    .dataframe tbody tr th {\n",
       "        vertical-align: top;\n",
       "    }\n",
       "\n",
       "    .dataframe thead th {\n",
       "        text-align: right;\n",
       "    }\n",
       "</style>\n",
       "<table border=\"1\" class=\"dataframe\">\n",
       "  <thead>\n",
       "    <tr style=\"text-align: right;\">\n",
       "      <th></th>\n",
       "      <th># of particles</th>\n",
       "      <th>AABW</th>\n",
       "      <th>MCDW</th>\n",
       "      <th>ISW</th>\n",
       "      <th>DSW</th>\n",
       "      <th>AASW</th>\n",
       "      <th>WW</th>\n",
       "      <th>mSW</th>\n",
       "    </tr>\n",
       "  </thead>\n",
       "  <tbody>\n",
       "    <tr>\n",
       "      <th>1</th>\n",
       "      <td>2721.0</td>\n",
       "      <td>0.0</td>\n",
       "      <td>1363.0</td>\n",
       "      <td>25.0</td>\n",
       "      <td>686.0</td>\n",
       "      <td>147.0</td>\n",
       "      <td>147.0</td>\n",
       "      <td>353.0</td>\n",
       "    </tr>\n",
       "    <tr>\n",
       "      <th>2</th>\n",
       "      <td>742.0</td>\n",
       "      <td>0.0</td>\n",
       "      <td>353.0</td>\n",
       "      <td>5.0</td>\n",
       "      <td>228.0</td>\n",
       "      <td>44.0</td>\n",
       "      <td>26.0</td>\n",
       "      <td>86.0</td>\n",
       "    </tr>\n",
       "    <tr>\n",
       "      <th>3</th>\n",
       "      <td>418.0</td>\n",
       "      <td>0.0</td>\n",
       "      <td>210.0</td>\n",
       "      <td>0.0</td>\n",
       "      <td>125.0</td>\n",
       "      <td>25.0</td>\n",
       "      <td>14.0</td>\n",
       "      <td>44.0</td>\n",
       "    </tr>\n",
       "    <tr>\n",
       "      <th>4</th>\n",
       "      <td>577.0</td>\n",
       "      <td>0.0</td>\n",
       "      <td>267.0</td>\n",
       "      <td>2.0</td>\n",
       "      <td>173.0</td>\n",
       "      <td>33.0</td>\n",
       "      <td>34.0</td>\n",
       "      <td>68.0</td>\n",
       "    </tr>\n",
       "  </tbody>\n",
       "</table>\n",
       "</div>"
      ],
      "text/plain": [
       "   # of particles  AABW    MCDW   ISW    DSW   AASW     WW    mSW\n",
       "1          2721.0   0.0  1363.0  25.0  686.0  147.0  147.0  353.0\n",
       "2           742.0   0.0   353.0   5.0  228.0   44.0   26.0   86.0\n",
       "3           418.0   0.0   210.0   0.0  125.0   25.0   14.0   44.0\n",
       "4           577.0   0.0   267.0   2.0  173.0   33.0   34.0   68.0"
      ]
     },
     "execution_count": 18,
     "metadata": {},
     "output_type": "execute_result"
    }
   ],
   "source": [
    "wmt_df = pd.DataFrame(index=[\"1\",\"2\",\"3\",\"4\"]) #,\"5\",\"6\"])\n",
    "wmt_df[\"# of particles\"] = lengths\n",
    "wmt_df[\"AABW\"] = AABW_percents\n",
    "wmt_df[\"MCDW\"] = MCDW_percents\n",
    "wmt_df[\"ISW\"] = ISW_percents\n",
    "wmt_df[\"DSW\"] = DSW_percents\n",
    "wmt_df[\"AASW\"] = AASW_percents\n",
    "wmt_df[\"WW\"] = WW_percents\n",
    "wmt_df[\"mSW\"] = other_percents\n",
    "\n",
    "# rename the indices\n",
    "# wmt_df = wmt_df.reindex([\"1\",\"2\",\"4\",\"2\"])\n",
    "\n",
    "wmt_df"
   ]
  },
  {
   "cell_type": "code",
   "execution_count": 19,
   "id": "a8cd614e",
   "metadata": {},
   "outputs": [],
   "source": [
    "# remake the above dataframe with percentages\n",
    "df1 = pd.DataFrame()# index=[\"1\",\"2\",\"3\",\"4\"])\n",
    "df1[\"% of Total\"] = wmt_df[\"# of particles\"]/sum(wmt_df[\"# of particles\"])\n",
    "df1[\"AABW\"] = wmt_df[\"AABW\"]/wmt_df[\"# of particles\"]\n",
    "df1[\"mCDW\"] = wmt_df[\"MCDW\"]/wmt_df[\"# of particles\"]\n",
    "df1[\"ISW\"] = wmt_df[\"ISW\"]/wmt_df[\"# of particles\"]\n",
    "df1[\"DSW\"] = wmt_df[\"DSW\"]/wmt_df[\"# of particles\"]\n",
    "df1[\"AASW\"] = wmt_df[\"AASW\"]/wmt_df[\"# of particles\"]\n",
    "df1[\"WW\"] = wmt_df[\"WW\"]/wmt_df[\"# of particles\"]\n",
    "df1[\"mSW\"] = wmt_df[\"mSW\"]/wmt_df[\"# of particles\"]\n",
    "\n",
    "# df1 = df1.reindex([\"3\",\"1\",\"6\",\"2\",\"4\",\"5\"])"
   ]
  },
  {
   "cell_type": "code",
   "execution_count": 16,
   "id": "6edd256b",
   "metadata": {},
   "outputs": [
    {
     "data": {
      "text/html": [
       "<style type=\"text/css\">\n",
       "</style>\n",
       "<table id=\"T_2b343\">\n",
       "  <thead>\n",
       "    <tr>\n",
       "      <th class=\"blank level0\" >&nbsp;</th>\n",
       "      <th id=\"T_2b343_level0_col0\" class=\"col_heading level0 col0\" >% of Total</th>\n",
       "      <th id=\"T_2b343_level0_col1\" class=\"col_heading level0 col1\" >AABW</th>\n",
       "      <th id=\"T_2b343_level0_col2\" class=\"col_heading level0 col2\" >mCDW</th>\n",
       "      <th id=\"T_2b343_level0_col3\" class=\"col_heading level0 col3\" >ISW</th>\n",
       "      <th id=\"T_2b343_level0_col4\" class=\"col_heading level0 col4\" >DSW</th>\n",
       "      <th id=\"T_2b343_level0_col5\" class=\"col_heading level0 col5\" >AASW</th>\n",
       "      <th id=\"T_2b343_level0_col6\" class=\"col_heading level0 col6\" >WW</th>\n",
       "      <th id=\"T_2b343_level0_col7\" class=\"col_heading level0 col7\" >mSW</th>\n",
       "    </tr>\n",
       "  </thead>\n",
       "  <tbody>\n",
       "    <tr>\n",
       "      <th id=\"T_2b343_level0_row0\" class=\"row_heading level0 row0\" >1</th>\n",
       "      <td id=\"T_2b343_row0_col0\" class=\"data row0 col0\" >61.04%</td>\n",
       "      <td id=\"T_2b343_row0_col1\" class=\"data row0 col1\" >0.00%</td>\n",
       "      <td id=\"T_2b343_row0_col2\" class=\"data row0 col2\" >36.42%</td>\n",
       "      <td id=\"T_2b343_row0_col3\" class=\"data row0 col3\" >8.64%</td>\n",
       "      <td id=\"T_2b343_row0_col4\" class=\"data row0 col4\" >3.27%</td>\n",
       "      <td id=\"T_2b343_row0_col5\" class=\"data row0 col5\" >42.23%</td>\n",
       "      <td id=\"T_2b343_row0_col6\" class=\"data row0 col6\" >8.27%</td>\n",
       "      <td id=\"T_2b343_row0_col7\" class=\"data row0 col7\" >1.18%</td>\n",
       "    </tr>\n",
       "    <tr>\n",
       "      <th id=\"T_2b343_level0_row1\" class=\"row_heading level0 row1\" >2</th>\n",
       "      <td id=\"T_2b343_row1_col0\" class=\"data row1 col0\" >16.64%</td>\n",
       "      <td id=\"T_2b343_row1_col1\" class=\"data row1 col1\" >59.57%</td>\n",
       "      <td id=\"T_2b343_row1_col2\" class=\"data row1 col2\" >35.85%</td>\n",
       "      <td id=\"T_2b343_row1_col3\" class=\"data row1 col3\" >2.29%</td>\n",
       "      <td id=\"T_2b343_row1_col4\" class=\"data row1 col4\" >0.00%</td>\n",
       "      <td id=\"T_2b343_row1_col5\" class=\"data row1 col5\" >0.13%</td>\n",
       "      <td id=\"T_2b343_row1_col6\" class=\"data row1 col6\" >0.00%</td>\n",
       "      <td id=\"T_2b343_row1_col7\" class=\"data row1 col7\" >2.16%</td>\n",
       "    </tr>\n",
       "    <tr>\n",
       "      <th id=\"T_2b343_level0_row2\" class=\"row_heading level0 row2\" >3</th>\n",
       "      <td id=\"T_2b343_row2_col0\" class=\"data row2 col0\" >9.38%</td>\n",
       "      <td id=\"T_2b343_row2_col1\" class=\"data row2 col1\" >100.00%</td>\n",
       "      <td id=\"T_2b343_row2_col2\" class=\"data row2 col2\" >0.00%</td>\n",
       "      <td id=\"T_2b343_row2_col3\" class=\"data row2 col3\" >0.00%</td>\n",
       "      <td id=\"T_2b343_row2_col4\" class=\"data row2 col4\" >0.00%</td>\n",
       "      <td id=\"T_2b343_row2_col5\" class=\"data row2 col5\" >0.00%</td>\n",
       "      <td id=\"T_2b343_row2_col6\" class=\"data row2 col6\" >0.00%</td>\n",
       "      <td id=\"T_2b343_row2_col7\" class=\"data row2 col7\" >0.00%</td>\n",
       "    </tr>\n",
       "    <tr>\n",
       "      <th id=\"T_2b343_level0_row3\" class=\"row_heading level0 row3\" >4</th>\n",
       "      <td id=\"T_2b343_row3_col0\" class=\"data row3 col0\" >12.94%</td>\n",
       "      <td id=\"T_2b343_row3_col1\" class=\"data row3 col1\" >100.00%</td>\n",
       "      <td id=\"T_2b343_row3_col2\" class=\"data row3 col2\" >0.00%</td>\n",
       "      <td id=\"T_2b343_row3_col3\" class=\"data row3 col3\" >0.00%</td>\n",
       "      <td id=\"T_2b343_row3_col4\" class=\"data row3 col4\" >0.00%</td>\n",
       "      <td id=\"T_2b343_row3_col5\" class=\"data row3 col5\" >0.00%</td>\n",
       "      <td id=\"T_2b343_row3_col6\" class=\"data row3 col6\" >0.00%</td>\n",
       "      <td id=\"T_2b343_row3_col7\" class=\"data row3 col7\" >0.00%</td>\n",
       "    </tr>\n",
       "  </tbody>\n",
       "</table>\n"
      ],
      "text/plain": [
       "<pandas.io.formats.style.Styler at 0x7f4bc7e25480>"
      ]
     },
     "execution_count": 16,
     "metadata": {},
     "output_type": "execute_result"
    }
   ],
   "source": [
    "df1.style.format({\n",
    "    '% of Total': '{:,.2%}'.format,\n",
    "    'AABW': '{:,.2%}'.format,\n",
    "    'mCDW': '{:,.2%}'.format,\n",
    "    'ISW' : '{:,.2%}'.format,\n",
    "    'DSW' : '{:,.2%}'.format,\n",
    "    'AASW': '{:,.2%}'.format,\n",
    "    'WW'  : '{:,.2%}'.format,\n",
    "    'mSW' : '{:,.2%}'.format\n",
    "})"
   ]
  },
  {
   "cell_type": "code",
   "execution_count": 82,
   "id": "121daede",
   "metadata": {},
   "outputs": [],
   "source": [
    "group3a = np.asarray(group1)\n",
    "group3a.tofile(\"/scratch/project_2000789/muramarg/floats_WAOM/GroupFiles/group1_dsw.txt\",sep=\",\")\n",
    "#group1 = np.fromfile(\"/scratch/project_2000789/muramarg/floats_WAOM/GroupFiles/group1_4grps.txt\",sep=\",\")\n",
    "\n",
    "group1a = np.asarray(group3)\n",
    "group1a.tofile(\"/scratch/project_2000789/muramarg/floats_WAOM/GroupFiles/group2_dsw.txt\",sep=\",\")\n",
    "#group2 = np.fromfile(\"/scratch/project_2000789/muramarg/floats_WAOM/GroupFiles/group2_4grps.txt\",sep=\",\")\n",
    "\n",
    "group6a = np.asarray(group4)\n",
    "group6a.tofile(\"/scratch/project_2000789/muramarg/floats_WAOM/GroupFiles/group3_dsw.txt\",sep=\",\")\n",
    "#group3 = np.fromfile(\"/scratch/project_2000789/muramarg/floats_WAOM/GroupFiles/group3_4grps.txt\",sep=\",\")\n",
    "\n",
    "group2a = np.asarray(group2)\n",
    "group2a.tofile(\"/scratch/project_2000789/muramarg/floats_WAOM/GroupFiles/group4_dsw.txt\",sep=\",\")\n",
    "#group4 = np.fromfile(\"/scratch/project_2000789/muramarg/floats_WAOM/GroupFiles/group4_4grps.txt\",sep=\",\")"
   ]
  },
  {
   "cell_type": "code",
   "execution_count": 66,
   "id": "c508fea5",
   "metadata": {},
   "outputs": [],
   "source": [
    "# group3a = np.asarray(group1)\n",
    "# group3a.tofile(\"/scratch/project_2000789/muramarg/floats_WAOM/GroupFiles/group1_4grps.txt\",sep=\",\")\n",
    "# #group0 = np.fromfile(\"/scratch/project_2000789/muramarg/floats_WAOM/GroupFiles/group0.txt\",sep=\",\")\n",
    "\n",
    "# group1a = np.asarray(group2)\n",
    "# group1a.tofile(\"/scratch/project_2000789/muramarg/floats_WAOM/GroupFiles/group2_4grps.txt\",sep=\",\")\n",
    "# #group1 = np.fromfile(\"/scratch/project_2000789/muramarg/floats_WAOM/GroupFiles/group1.txt\",sep=\",\")\n",
    "\n",
    "# group6a = np.asarray(group3)\n",
    "# group6a.tofile(\"/scratch/project_2000789/muramarg/floats_WAOM/GroupFiles/group3_4grps.txt\",sep=\",\")\n",
    "# #group2 = np.fromfile(\"/scratch/project_2000789/muramarg/floats_WAOM/GroupFiles/group2.txt\",sep=\",\")\n",
    "\n",
    "# group2a = np.asarray(group4)\n",
    "# group2a.tofile(\"/scratch/project_2000789/muramarg/floats_WAOM/GroupFiles/group4_4grps.txt\",sep=\",\")\n",
    "# #group3 = np.fromfile(\"/scratch/project_2000789/muramarg/floats_WAOM/GroupFiles/group3.txt\",sep=\",\")\n",
    "\n",
    "# group4a = np.asarray(group5)\n",
    "# group4a.tofile(\"/scratch/project_2000789/muramarg/floats_WAOM/GroupFiles/group5_4grps.txt\",sep=\",\")\n",
    "# #group4 = np.fromfile(\"/scratch/project_2000789/muramarg/floats_WAOM/GroupFiles/group4.txt\",sep=\",\")\n",
    "\n",
    "# group5a = np.asarray(group6)\n",
    "# group5a.tofile(\"/scratch/project_2000789/muramarg/floats_WAOM/GroupFiles/group6_4grps.txt\",sep=\",\")\n",
    "# #group5 = np.fromfile(\"/scratch/project_2000789/muramarg/floats_WAOM/GroupFiles/group5.txt\",sep=\",\")"
   ]
  },
  {
   "cell_type": "code",
   "execution_count": 68,
   "id": "c790f866",
   "metadata": {},
   "outputs": [],
   "source": [
    "# group0 = group0.tolist()\n",
    "# group0 = [int(x) for x in group0]\n",
    "\n",
    "group1 = group1.tolist()\n",
    "group1 = [int(x) for x in group1]\n",
    "\n",
    "group2 = group2.tolist()\n",
    "group2 = [int(x) for x in group2]\n",
    "\n",
    "group3 = group3.tolist()\n",
    "group3 = [int(x) for x in group3]\n",
    "\n",
    "group4 = group4.tolist()\n",
    "group4 = [int(x) for x in group4]\n",
    "\n",
    "# group5 = group5.tolist()\n",
    "# group5 = [int(x) for x in group5]"
   ]
  },
  {
   "cell_type": "code",
   "execution_count": 69,
   "id": "d7a1e52f",
   "metadata": {},
   "outputs": [],
   "source": [
    "groups = np.array([group1,group2,group3,group4],dtype=object)   #,group5,group6"
   ]
  },
  {
   "cell_type": "code",
   "execution_count": null,
   "id": "010cf427",
   "metadata": {},
   "outputs": [],
   "source": []
  }
 ],
 "metadata": {
  "kernelspec": {
   "display_name": "Python 3 (ipykernel)",
   "language": "python",
   "name": "python3"
  },
  "language_info": {
   "codemirror_mode": {
    "name": "ipython",
    "version": 3
   },
   "file_extension": ".py",
   "mimetype": "text/x-python",
   "name": "python",
   "nbconvert_exporter": "python",
   "pygments_lexer": "ipython3",
   "version": "3.10.9"
  }
 },
 "nbformat": 4,
 "nbformat_minor": 5
}
